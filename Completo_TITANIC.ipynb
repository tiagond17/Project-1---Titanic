{
 "cells": [
  {
   "cell_type": "markdown",
   "metadata": {},
   "source": [
    "# Importando os Módulos"
   ]
  },
  {
   "cell_type": "code",
   "execution_count": 1,
   "metadata": {},
   "outputs": [],
   "source": [
    "import pandas as pd\n",
    "import numpy as np\n",
    "import seaborn as sns\n",
    "import matplotlib.pyplot as plt\n",
    "from sklearn.model_selection import cross_val_score\n",
    "from sklearn.pipeline import Pipeline\n",
    "from sklearn import model_selection\n",
    "from sklearn.feature_selection import chi2\n",
    "from sklearn.model_selection import train_test_split\n",
    "from sklearn.discriminant_analysis import LinearDiscriminantAnalysis\n",
    "from sklearn.linear_model import LogisticRegression\n",
    "from sklearn.tree import DecisionTreeClassifier\n",
    "from sklearn.neighbors import KNeighborsClassifier\n",
    "from xgboost import XGBClassifier\n",
    "from sklearn.naive_bayes import GaussianNB\n",
    "from sklearn.svm import SVC\n",
    "from sklearn.ensemble import RandomForestClassifier\n",
    "from sklearn.preprocessing import StandardScaler\n",
    "from sklearn.metrics import confusion_matrix\n",
    "from sklearn.metrics import classification_report\n",
    "from warnings import simplefilter\n",
    "simplefilter(action='ignore', category=FutureWarning)\n",
    "%matplotlib inline\n",
    "from sklearn.neural_network import MLPClassifier # classificador Redes Neurais"
   ]
  },
  {
   "cell_type": "markdown",
   "metadata": {},
   "source": [
    "# Carregando os Dados"
   ]
  },
  {
   "cell_type": "code",
   "execution_count": 2,
   "metadata": {},
   "outputs": [],
   "source": [
    "# Lendo os conjuntos teste e treino\n",
    "train = pd.read_csv('train.csv')\n",
    "test = pd.read_csv('test.csv')\n",
    "data = [train,test]"
   ]
  },
  {
   "cell_type": "markdown",
   "metadata": {},
   "source": [
    "# Visualização dos Dados"
   ]
  },
  {
   "cell_type": "code",
   "execution_count": 3,
   "metadata": {},
   "outputs": [
    {
     "data": {
      "text/html": [
       "<div>\n",
       "<style scoped>\n",
       "    .dataframe tbody tr th:only-of-type {\n",
       "        vertical-align: middle;\n",
       "    }\n",
       "\n",
       "    .dataframe tbody tr th {\n",
       "        vertical-align: top;\n",
       "    }\n",
       "\n",
       "    .dataframe thead th {\n",
       "        text-align: right;\n",
       "    }\n",
       "</style>\n",
       "<table border=\"1\" class=\"dataframe\">\n",
       "  <thead>\n",
       "    <tr style=\"text-align: right;\">\n",
       "      <th></th>\n",
       "      <th>PassengerId</th>\n",
       "      <th>Survived</th>\n",
       "      <th>Pclass</th>\n",
       "      <th>Name</th>\n",
       "      <th>Sex</th>\n",
       "      <th>Age</th>\n",
       "      <th>SibSp</th>\n",
       "      <th>Parch</th>\n",
       "      <th>Ticket</th>\n",
       "      <th>Fare</th>\n",
       "      <th>Cabin</th>\n",
       "      <th>Embarked</th>\n",
       "    </tr>\n",
       "  </thead>\n",
       "  <tbody>\n",
       "    <tr>\n",
       "      <th>0</th>\n",
       "      <td>1</td>\n",
       "      <td>0</td>\n",
       "      <td>3</td>\n",
       "      <td>Braund, Mr. Owen Harris</td>\n",
       "      <td>male</td>\n",
       "      <td>22.0</td>\n",
       "      <td>1</td>\n",
       "      <td>0</td>\n",
       "      <td>A/5 21171</td>\n",
       "      <td>7.2500</td>\n",
       "      <td>NaN</td>\n",
       "      <td>S</td>\n",
       "    </tr>\n",
       "    <tr>\n",
       "      <th>1</th>\n",
       "      <td>2</td>\n",
       "      <td>1</td>\n",
       "      <td>1</td>\n",
       "      <td>Cumings, Mrs. John Bradley (Florence Briggs Th...</td>\n",
       "      <td>female</td>\n",
       "      <td>38.0</td>\n",
       "      <td>1</td>\n",
       "      <td>0</td>\n",
       "      <td>PC 17599</td>\n",
       "      <td>71.2833</td>\n",
       "      <td>C85</td>\n",
       "      <td>C</td>\n",
       "    </tr>\n",
       "    <tr>\n",
       "      <th>2</th>\n",
       "      <td>3</td>\n",
       "      <td>1</td>\n",
       "      <td>3</td>\n",
       "      <td>Heikkinen, Miss. Laina</td>\n",
       "      <td>female</td>\n",
       "      <td>26.0</td>\n",
       "      <td>0</td>\n",
       "      <td>0</td>\n",
       "      <td>STON/O2. 3101282</td>\n",
       "      <td>7.9250</td>\n",
       "      <td>NaN</td>\n",
       "      <td>S</td>\n",
       "    </tr>\n",
       "    <tr>\n",
       "      <th>3</th>\n",
       "      <td>4</td>\n",
       "      <td>1</td>\n",
       "      <td>1</td>\n",
       "      <td>Futrelle, Mrs. Jacques Heath (Lily May Peel)</td>\n",
       "      <td>female</td>\n",
       "      <td>35.0</td>\n",
       "      <td>1</td>\n",
       "      <td>0</td>\n",
       "      <td>113803</td>\n",
       "      <td>53.1000</td>\n",
       "      <td>C123</td>\n",
       "      <td>S</td>\n",
       "    </tr>\n",
       "    <tr>\n",
       "      <th>4</th>\n",
       "      <td>5</td>\n",
       "      <td>0</td>\n",
       "      <td>3</td>\n",
       "      <td>Allen, Mr. William Henry</td>\n",
       "      <td>male</td>\n",
       "      <td>35.0</td>\n",
       "      <td>0</td>\n",
       "      <td>0</td>\n",
       "      <td>373450</td>\n",
       "      <td>8.0500</td>\n",
       "      <td>NaN</td>\n",
       "      <td>S</td>\n",
       "    </tr>\n",
       "  </tbody>\n",
       "</table>\n",
       "</div>"
      ],
      "text/plain": [
       "   PassengerId  Survived  Pclass  \\\n",
       "0            1         0       3   \n",
       "1            2         1       1   \n",
       "2            3         1       3   \n",
       "3            4         1       1   \n",
       "4            5         0       3   \n",
       "\n",
       "                                                Name     Sex   Age  SibSp  \\\n",
       "0                            Braund, Mr. Owen Harris    male  22.0      1   \n",
       "1  Cumings, Mrs. John Bradley (Florence Briggs Th...  female  38.0      1   \n",
       "2                             Heikkinen, Miss. Laina  female  26.0      0   \n",
       "3       Futrelle, Mrs. Jacques Heath (Lily May Peel)  female  35.0      1   \n",
       "4                           Allen, Mr. William Henry    male  35.0      0   \n",
       "\n",
       "   Parch            Ticket     Fare Cabin Embarked  \n",
       "0      0         A/5 21171   7.2500   NaN        S  \n",
       "1      0          PC 17599  71.2833   C85        C  \n",
       "2      0  STON/O2. 3101282   7.9250   NaN        S  \n",
       "3      0            113803  53.1000  C123        S  \n",
       "4      0            373450   8.0500   NaN        S  "
      ]
     },
     "execution_count": 3,
     "metadata": {},
     "output_type": "execute_result"
    }
   ],
   "source": [
    "# Visualizando as 5 primeiras linhas do conjunto de treino.\n",
    "train.head()"
   ]
  },
  {
   "cell_type": "code",
   "execution_count": 4,
   "metadata": {},
   "outputs": [
    {
     "data": {
      "text/html": [
       "<div>\n",
       "<style scoped>\n",
       "    .dataframe tbody tr th:only-of-type {\n",
       "        vertical-align: middle;\n",
       "    }\n",
       "\n",
       "    .dataframe tbody tr th {\n",
       "        vertical-align: top;\n",
       "    }\n",
       "\n",
       "    .dataframe thead th {\n",
       "        text-align: right;\n",
       "    }\n",
       "</style>\n",
       "<table border=\"1\" class=\"dataframe\">\n",
       "  <thead>\n",
       "    <tr style=\"text-align: right;\">\n",
       "      <th></th>\n",
       "      <th>PassengerId</th>\n",
       "      <th>Pclass</th>\n",
       "      <th>Name</th>\n",
       "      <th>Sex</th>\n",
       "      <th>Age</th>\n",
       "      <th>SibSp</th>\n",
       "      <th>Parch</th>\n",
       "      <th>Ticket</th>\n",
       "      <th>Fare</th>\n",
       "      <th>Cabin</th>\n",
       "      <th>Embarked</th>\n",
       "    </tr>\n",
       "  </thead>\n",
       "  <tbody>\n",
       "    <tr>\n",
       "      <th>0</th>\n",
       "      <td>892</td>\n",
       "      <td>3</td>\n",
       "      <td>Kelly, Mr. James</td>\n",
       "      <td>male</td>\n",
       "      <td>34.5</td>\n",
       "      <td>0</td>\n",
       "      <td>0</td>\n",
       "      <td>330911</td>\n",
       "      <td>7.8292</td>\n",
       "      <td>NaN</td>\n",
       "      <td>Q</td>\n",
       "    </tr>\n",
       "    <tr>\n",
       "      <th>1</th>\n",
       "      <td>893</td>\n",
       "      <td>3</td>\n",
       "      <td>Wilkes, Mrs. James (Ellen Needs)</td>\n",
       "      <td>female</td>\n",
       "      <td>47.0</td>\n",
       "      <td>1</td>\n",
       "      <td>0</td>\n",
       "      <td>363272</td>\n",
       "      <td>7.0000</td>\n",
       "      <td>NaN</td>\n",
       "      <td>S</td>\n",
       "    </tr>\n",
       "    <tr>\n",
       "      <th>2</th>\n",
       "      <td>894</td>\n",
       "      <td>2</td>\n",
       "      <td>Myles, Mr. Thomas Francis</td>\n",
       "      <td>male</td>\n",
       "      <td>62.0</td>\n",
       "      <td>0</td>\n",
       "      <td>0</td>\n",
       "      <td>240276</td>\n",
       "      <td>9.6875</td>\n",
       "      <td>NaN</td>\n",
       "      <td>Q</td>\n",
       "    </tr>\n",
       "    <tr>\n",
       "      <th>3</th>\n",
       "      <td>895</td>\n",
       "      <td>3</td>\n",
       "      <td>Wirz, Mr. Albert</td>\n",
       "      <td>male</td>\n",
       "      <td>27.0</td>\n",
       "      <td>0</td>\n",
       "      <td>0</td>\n",
       "      <td>315154</td>\n",
       "      <td>8.6625</td>\n",
       "      <td>NaN</td>\n",
       "      <td>S</td>\n",
       "    </tr>\n",
       "    <tr>\n",
       "      <th>4</th>\n",
       "      <td>896</td>\n",
       "      <td>3</td>\n",
       "      <td>Hirvonen, Mrs. Alexander (Helga E Lindqvist)</td>\n",
       "      <td>female</td>\n",
       "      <td>22.0</td>\n",
       "      <td>1</td>\n",
       "      <td>1</td>\n",
       "      <td>3101298</td>\n",
       "      <td>12.2875</td>\n",
       "      <td>NaN</td>\n",
       "      <td>S</td>\n",
       "    </tr>\n",
       "  </tbody>\n",
       "</table>\n",
       "</div>"
      ],
      "text/plain": [
       "   PassengerId  Pclass                                          Name     Sex  \\\n",
       "0          892       3                              Kelly, Mr. James    male   \n",
       "1          893       3              Wilkes, Mrs. James (Ellen Needs)  female   \n",
       "2          894       2                     Myles, Mr. Thomas Francis    male   \n",
       "3          895       3                              Wirz, Mr. Albert    male   \n",
       "4          896       3  Hirvonen, Mrs. Alexander (Helga E Lindqvist)  female   \n",
       "\n",
       "    Age  SibSp  Parch   Ticket     Fare Cabin Embarked  \n",
       "0  34.5      0      0   330911   7.8292   NaN        Q  \n",
       "1  47.0      1      0   363272   7.0000   NaN        S  \n",
       "2  62.0      0      0   240276   9.6875   NaN        Q  \n",
       "3  27.0      0      0   315154   8.6625   NaN        S  \n",
       "4  22.0      1      1  3101298  12.2875   NaN        S  "
      ]
     },
     "execution_count": 4,
     "metadata": {},
     "output_type": "execute_result"
    }
   ],
   "source": [
    "# Visualizando as 5 primeiras linhas do conjunto de teste.\n",
    "test.head()"
   ]
  },
  {
   "cell_type": "code",
   "execution_count": 5,
   "metadata": {},
   "outputs": [
    {
     "data": {
      "text/html": [
       "<div>\n",
       "<style scoped>\n",
       "    .dataframe tbody tr th:only-of-type {\n",
       "        vertical-align: middle;\n",
       "    }\n",
       "\n",
       "    .dataframe tbody tr th {\n",
       "        vertical-align: top;\n",
       "    }\n",
       "\n",
       "    .dataframe thead th {\n",
       "        text-align: right;\n",
       "    }\n",
       "</style>\n",
       "<table border=\"1\" class=\"dataframe\">\n",
       "  <thead>\n",
       "    <tr style=\"text-align: right;\">\n",
       "      <th></th>\n",
       "      <th>PassengerId</th>\n",
       "      <th>Survived</th>\n",
       "      <th>Pclass</th>\n",
       "      <th>Age</th>\n",
       "      <th>SibSp</th>\n",
       "      <th>Parch</th>\n",
       "      <th>Fare</th>\n",
       "    </tr>\n",
       "  </thead>\n",
       "  <tbody>\n",
       "    <tr>\n",
       "      <th>count</th>\n",
       "      <td>891.000000</td>\n",
       "      <td>891.000000</td>\n",
       "      <td>891.000000</td>\n",
       "      <td>714.000000</td>\n",
       "      <td>891.000000</td>\n",
       "      <td>891.000000</td>\n",
       "      <td>891.000000</td>\n",
       "    </tr>\n",
       "    <tr>\n",
       "      <th>mean</th>\n",
       "      <td>446.000000</td>\n",
       "      <td>0.383838</td>\n",
       "      <td>2.308642</td>\n",
       "      <td>29.699118</td>\n",
       "      <td>0.523008</td>\n",
       "      <td>0.381594</td>\n",
       "      <td>32.204208</td>\n",
       "    </tr>\n",
       "    <tr>\n",
       "      <th>std</th>\n",
       "      <td>257.353842</td>\n",
       "      <td>0.486592</td>\n",
       "      <td>0.836071</td>\n",
       "      <td>14.526497</td>\n",
       "      <td>1.102743</td>\n",
       "      <td>0.806057</td>\n",
       "      <td>49.693429</td>\n",
       "    </tr>\n",
       "    <tr>\n",
       "      <th>min</th>\n",
       "      <td>1.000000</td>\n",
       "      <td>0.000000</td>\n",
       "      <td>1.000000</td>\n",
       "      <td>0.420000</td>\n",
       "      <td>0.000000</td>\n",
       "      <td>0.000000</td>\n",
       "      <td>0.000000</td>\n",
       "    </tr>\n",
       "    <tr>\n",
       "      <th>25%</th>\n",
       "      <td>223.500000</td>\n",
       "      <td>0.000000</td>\n",
       "      <td>2.000000</td>\n",
       "      <td>20.125000</td>\n",
       "      <td>0.000000</td>\n",
       "      <td>0.000000</td>\n",
       "      <td>7.910400</td>\n",
       "    </tr>\n",
       "    <tr>\n",
       "      <th>50%</th>\n",
       "      <td>446.000000</td>\n",
       "      <td>0.000000</td>\n",
       "      <td>3.000000</td>\n",
       "      <td>28.000000</td>\n",
       "      <td>0.000000</td>\n",
       "      <td>0.000000</td>\n",
       "      <td>14.454200</td>\n",
       "    </tr>\n",
       "    <tr>\n",
       "      <th>75%</th>\n",
       "      <td>668.500000</td>\n",
       "      <td>1.000000</td>\n",
       "      <td>3.000000</td>\n",
       "      <td>38.000000</td>\n",
       "      <td>1.000000</td>\n",
       "      <td>0.000000</td>\n",
       "      <td>31.000000</td>\n",
       "    </tr>\n",
       "    <tr>\n",
       "      <th>max</th>\n",
       "      <td>891.000000</td>\n",
       "      <td>1.000000</td>\n",
       "      <td>3.000000</td>\n",
       "      <td>80.000000</td>\n",
       "      <td>8.000000</td>\n",
       "      <td>6.000000</td>\n",
       "      <td>512.329200</td>\n",
       "    </tr>\n",
       "  </tbody>\n",
       "</table>\n",
       "</div>"
      ],
      "text/plain": [
       "       PassengerId    Survived      Pclass         Age       SibSp  \\\n",
       "count   891.000000  891.000000  891.000000  714.000000  891.000000   \n",
       "mean    446.000000    0.383838    2.308642   29.699118    0.523008   \n",
       "std     257.353842    0.486592    0.836071   14.526497    1.102743   \n",
       "min       1.000000    0.000000    1.000000    0.420000    0.000000   \n",
       "25%     223.500000    0.000000    2.000000   20.125000    0.000000   \n",
       "50%     446.000000    0.000000    3.000000   28.000000    0.000000   \n",
       "75%     668.500000    1.000000    3.000000   38.000000    1.000000   \n",
       "max     891.000000    1.000000    3.000000   80.000000    8.000000   \n",
       "\n",
       "            Parch        Fare  \n",
       "count  891.000000  891.000000  \n",
       "mean     0.381594   32.204208  \n",
       "std      0.806057   49.693429  \n",
       "min      0.000000    0.000000  \n",
       "25%      0.000000    7.910400  \n",
       "50%      0.000000   14.454200  \n",
       "75%      0.000000   31.000000  \n",
       "max      6.000000  512.329200  "
      ]
     },
     "execution_count": 5,
     "metadata": {},
     "output_type": "execute_result"
    }
   ],
   "source": [
    "# Variáveis numéricas.\n",
    "train.describe()"
   ]
  },
  {
   "cell_type": "code",
   "execution_count": 6,
   "metadata": {},
   "outputs": [
    {
     "data": {
      "text/html": [
       "<div>\n",
       "<style scoped>\n",
       "    .dataframe tbody tr th:only-of-type {\n",
       "        vertical-align: middle;\n",
       "    }\n",
       "\n",
       "    .dataframe tbody tr th {\n",
       "        vertical-align: top;\n",
       "    }\n",
       "\n",
       "    .dataframe thead th {\n",
       "        text-align: right;\n",
       "    }\n",
       "</style>\n",
       "<table border=\"1\" class=\"dataframe\">\n",
       "  <thead>\n",
       "    <tr style=\"text-align: right;\">\n",
       "      <th></th>\n",
       "      <th>Name</th>\n",
       "      <th>Sex</th>\n",
       "      <th>Ticket</th>\n",
       "      <th>Cabin</th>\n",
       "      <th>Embarked</th>\n",
       "    </tr>\n",
       "  </thead>\n",
       "  <tbody>\n",
       "    <tr>\n",
       "      <th>count</th>\n",
       "      <td>891</td>\n",
       "      <td>891</td>\n",
       "      <td>891</td>\n",
       "      <td>204</td>\n",
       "      <td>889</td>\n",
       "    </tr>\n",
       "    <tr>\n",
       "      <th>unique</th>\n",
       "      <td>891</td>\n",
       "      <td>2</td>\n",
       "      <td>681</td>\n",
       "      <td>147</td>\n",
       "      <td>3</td>\n",
       "    </tr>\n",
       "    <tr>\n",
       "      <th>top</th>\n",
       "      <td>Carter, Miss. Lucile Polk</td>\n",
       "      <td>male</td>\n",
       "      <td>CA. 2343</td>\n",
       "      <td>G6</td>\n",
       "      <td>S</td>\n",
       "    </tr>\n",
       "    <tr>\n",
       "      <th>freq</th>\n",
       "      <td>1</td>\n",
       "      <td>577</td>\n",
       "      <td>7</td>\n",
       "      <td>4</td>\n",
       "      <td>644</td>\n",
       "    </tr>\n",
       "  </tbody>\n",
       "</table>\n",
       "</div>"
      ],
      "text/plain": [
       "                             Name   Sex    Ticket Cabin Embarked\n",
       "count                         891   891       891   204      889\n",
       "unique                        891     2       681   147        3\n",
       "top     Carter, Miss. Lucile Polk  male  CA. 2343    G6        S\n",
       "freq                            1   577         7     4      644"
      ]
     },
     "execution_count": 6,
     "metadata": {},
     "output_type": "execute_result"
    }
   ],
   "source": [
    "# Variáveis categóricas.\n",
    "train.describe(include=['O'])"
   ]
  },
  {
   "cell_type": "code",
   "execution_count": 7,
   "metadata": {},
   "outputs": [
    {
     "name": "stdout",
     "output_type": "stream",
     "text": [
      "<class 'pandas.core.frame.DataFrame'>\n",
      "RangeIndex: 891 entries, 0 to 890\n",
      "Data columns (total 12 columns):\n",
      "PassengerId    891 non-null int64\n",
      "Survived       891 non-null int64\n",
      "Pclass         891 non-null int64\n",
      "Name           891 non-null object\n",
      "Sex            891 non-null object\n",
      "Age            714 non-null float64\n",
      "SibSp          891 non-null int64\n",
      "Parch          891 non-null int64\n",
      "Ticket         891 non-null object\n",
      "Fare           891 non-null float64\n",
      "Cabin          204 non-null object\n",
      "Embarked       889 non-null object\n",
      "dtypes: float64(2), int64(5), object(5)\n",
      "memory usage: 83.6+ KB\n"
     ]
    }
   ],
   "source": [
    "# Tipos dos dados.\n",
    "train.info()"
   ]
  },
  {
   "cell_type": "markdown",
   "metadata": {},
   "source": [
    "# Análise Exploratória"
   ]
  },
  {
   "cell_type": "code",
   "execution_count": 8,
   "metadata": {},
   "outputs": [
    {
     "name": "stdout",
     "output_type": "stream",
     "text": [
      "Total number of passengers: 891\n",
      "Survived: 342\n",
      "Not Survived: 549\n"
     ]
    }
   ],
   "source": [
    "# Qual a quantidade de sobreviventes do Titanic?\n",
    "survived = train[train['Survived'] == 1]\n",
    "not_survived = train[train['Survived'] == 0]\n",
    "\n",
    "print(f'Total number of passengers: {len(train)}')\n",
    "print(f'Survived: {len(survived)}')\n",
    "print(f'Not Survived: {len(not_survived)}')"
   ]
  },
  {
   "cell_type": "code",
   "execution_count": 9,
   "metadata": {},
   "outputs": [],
   "source": [
    "# Os passageiros do Titanic estavam divididos em 3 classes:\n",
    "# os que viajavam na 1ª classe na sua maioria eram os mais ricos, \n",
    "# na 2ª classe eram viajantes de classe média,\n",
    "# os da 3ª classe eram principalmente imigrantes. "
   ]
  },
  {
   "cell_type": "code",
   "execution_count": 10,
   "metadata": {},
   "outputs": [
    {
     "data": {
      "text/plain": [
       "Pclass\n",
       "1    216\n",
       "2    184\n",
       "3    491\n",
       "dtype: int64"
      ]
     },
     "execution_count": 10,
     "metadata": {},
     "output_type": "execute_result"
    }
   ],
   "source": [
    "# Total de passageiros por classe.\n",
    "train.groupby('Pclass').size()"
   ]
  },
  {
   "cell_type": "code",
   "execution_count": 11,
   "metadata": {},
   "outputs": [
    {
     "data": {
      "text/html": [
       "<div>\n",
       "<style scoped>\n",
       "    .dataframe tbody tr th:only-of-type {\n",
       "        vertical-align: middle;\n",
       "    }\n",
       "\n",
       "    .dataframe tbody tr th {\n",
       "        vertical-align: top;\n",
       "    }\n",
       "\n",
       "    .dataframe thead th {\n",
       "        text-align: right;\n",
       "    }\n",
       "</style>\n",
       "<table border=\"1\" class=\"dataframe\">\n",
       "  <thead>\n",
       "    <tr style=\"text-align: right;\">\n",
       "      <th>Sex</th>\n",
       "      <th>female</th>\n",
       "      <th>male</th>\n",
       "    </tr>\n",
       "    <tr>\n",
       "      <th>Pclass</th>\n",
       "      <th></th>\n",
       "      <th></th>\n",
       "    </tr>\n",
       "  </thead>\n",
       "  <tbody>\n",
       "    <tr>\n",
       "      <th>1</th>\n",
       "      <td>94</td>\n",
       "      <td>122</td>\n",
       "    </tr>\n",
       "    <tr>\n",
       "      <th>2</th>\n",
       "      <td>76</td>\n",
       "      <td>108</td>\n",
       "    </tr>\n",
       "    <tr>\n",
       "      <th>3</th>\n",
       "      <td>144</td>\n",
       "      <td>347</td>\n",
       "    </tr>\n",
       "  </tbody>\n",
       "</table>\n",
       "</div>"
      ],
      "text/plain": [
       "Sex     female  male\n",
       "Pclass              \n",
       "1           94   122\n",
       "2           76   108\n",
       "3          144   347"
      ]
     },
     "execution_count": 11,
     "metadata": {},
     "output_type": "execute_result"
    }
   ],
   "source": [
    "# Número de passageiros de cada classe e seus respectivos sexos.\n",
    "pd.crosstab(train['Pclass'],train['Sex'])"
   ]
  },
  {
   "cell_type": "code",
   "execution_count": 12,
   "metadata": {},
   "outputs": [
    {
     "data": {
      "text/html": [
       "<div>\n",
       "<style scoped>\n",
       "    .dataframe tbody tr th:only-of-type {\n",
       "        vertical-align: middle;\n",
       "    }\n",
       "\n",
       "    .dataframe tbody tr th {\n",
       "        vertical-align: top;\n",
       "    }\n",
       "\n",
       "    .dataframe thead th {\n",
       "        text-align: right;\n",
       "    }\n",
       "</style>\n",
       "<table border=\"1\" class=\"dataframe\">\n",
       "  <thead>\n",
       "    <tr style=\"text-align: right;\">\n",
       "      <th>Survived</th>\n",
       "      <th>0</th>\n",
       "      <th>1</th>\n",
       "    </tr>\n",
       "    <tr>\n",
       "      <th>Pclass</th>\n",
       "      <th></th>\n",
       "      <th></th>\n",
       "    </tr>\n",
       "  </thead>\n",
       "  <tbody>\n",
       "    <tr>\n",
       "      <th>1</th>\n",
       "      <td>80</td>\n",
       "      <td>136</td>\n",
       "    </tr>\n",
       "    <tr>\n",
       "      <th>2</th>\n",
       "      <td>97</td>\n",
       "      <td>87</td>\n",
       "    </tr>\n",
       "    <tr>\n",
       "      <th>3</th>\n",
       "      <td>372</td>\n",
       "      <td>119</td>\n",
       "    </tr>\n",
       "  </tbody>\n",
       "</table>\n",
       "</div>"
      ],
      "text/plain": [
       "Survived    0    1\n",
       "Pclass            \n",
       "1          80  136\n",
       "2          97   87\n",
       "3         372  119"
      ]
     },
     "execution_count": 12,
     "metadata": {},
     "output_type": "execute_result"
    }
   ],
   "source": [
    "# Número de sobreviventes por classe.\n",
    "# 0 - not survived    1 - survived\n",
    "pd.crosstab(train['Pclass'],train['Survived'])"
   ]
  },
  {
   "cell_type": "code",
   "execution_count": 13,
   "metadata": {},
   "outputs": [
    {
     "data": {
      "text/html": [
       "<div>\n",
       "<style scoped>\n",
       "    .dataframe tbody tr th:only-of-type {\n",
       "        vertical-align: middle;\n",
       "    }\n",
       "\n",
       "    .dataframe tbody tr th {\n",
       "        vertical-align: top;\n",
       "    }\n",
       "\n",
       "    .dataframe thead th {\n",
       "        text-align: right;\n",
       "    }\n",
       "</style>\n",
       "<table border=\"1\" class=\"dataframe\">\n",
       "  <thead>\n",
       "    <tr style=\"text-align: right;\">\n",
       "      <th></th>\n",
       "      <th>Pclass</th>\n",
       "      <th>Survived</th>\n",
       "    </tr>\n",
       "  </thead>\n",
       "  <tbody>\n",
       "    <tr>\n",
       "      <th>0</th>\n",
       "      <td>1</td>\n",
       "      <td>0.629630</td>\n",
       "    </tr>\n",
       "    <tr>\n",
       "      <th>1</th>\n",
       "      <td>2</td>\n",
       "      <td>0.472826</td>\n",
       "    </tr>\n",
       "    <tr>\n",
       "      <th>2</th>\n",
       "      <td>3</td>\n",
       "      <td>0.242363</td>\n",
       "    </tr>\n",
       "  </tbody>\n",
       "</table>\n",
       "</div>"
      ],
      "text/plain": [
       "   Pclass  Survived\n",
       "0       1  0.629630\n",
       "1       2  0.472826\n",
       "2       3  0.242363"
      ]
     },
     "execution_count": 13,
     "metadata": {},
     "output_type": "execute_result"
    }
   ],
   "source": [
    "# Média de sobreviventes por classe.\n",
    "train[['Pclass','Survived']].groupby(['Pclass'], as_index = False).mean().sort_values(by='Survived',ascending=False)"
   ]
  },
  {
   "cell_type": "code",
   "execution_count": 14,
   "metadata": {},
   "outputs": [
    {
     "data": {
      "text/plain": [
       "<matplotlib.axes._subplots.AxesSubplot at 0x253a6ed9160>"
      ]
     },
     "execution_count": 14,
     "metadata": {},
     "output_type": "execute_result"
    },
    {
     "data": {
      "image/png": "[encoded data removed]",
      "text/plain": [
       "<Figure size 432x288 with 1 Axes>"
      ]
     },
     "metadata": {
      "needs_background": "light"
     },
     "output_type": "display_data"
    }
   ],
   "source": [
    "sns.countplot(x='Survived', hue='Pclass', data=train, palette='rainbow')"
   ]
  },
  {
   "cell_type": "code",
   "execution_count": 15,
   "metadata": {},
   "outputs": [
    {
     "data": {
      "text/plain": [
       "male      577\n",
       "female    314\n",
       "Name: Sex, dtype: int64"
      ]
     },
     "execution_count": 15,
     "metadata": {},
     "output_type": "execute_result"
    }
   ],
   "source": [
    "# Quantidade de passageiros de acordo com o sexo.\n",
    "# female = feminino, male = masculino\n",
    "train['Sex'].value_counts()"
   ]
  },
  {
   "cell_type": "code",
   "execution_count": 16,
   "metadata": {},
   "outputs": [
    {
     "data": {
      "text/html": [
       "<div>\n",
       "<style scoped>\n",
       "    .dataframe tbody tr th:only-of-type {\n",
       "        vertical-align: middle;\n",
       "    }\n",
       "\n",
       "    .dataframe tbody tr th {\n",
       "        vertical-align: top;\n",
       "    }\n",
       "\n",
       "    .dataframe thead th {\n",
       "        text-align: right;\n",
       "    }\n",
       "</style>\n",
       "<table border=\"1\" class=\"dataframe\">\n",
       "  <thead>\n",
       "    <tr style=\"text-align: right;\">\n",
       "      <th>Survived</th>\n",
       "      <th>0</th>\n",
       "      <th>1</th>\n",
       "    </tr>\n",
       "    <tr>\n",
       "      <th>Sex</th>\n",
       "      <th></th>\n",
       "      <th></th>\n",
       "    </tr>\n",
       "  </thead>\n",
       "  <tbody>\n",
       "    <tr>\n",
       "      <th>female</th>\n",
       "      <td>81</td>\n",
       "      <td>233</td>\n",
       "    </tr>\n",
       "    <tr>\n",
       "      <th>male</th>\n",
       "      <td>468</td>\n",
       "      <td>109</td>\n",
       "    </tr>\n",
       "  </tbody>\n",
       "</table>\n",
       "</div>"
      ],
      "text/plain": [
       "Survived    0    1\n",
       "Sex               \n",
       "female     81  233\n",
       "male      468  109"
      ]
     },
     "execution_count": 16,
     "metadata": {},
     "output_type": "execute_result"
    }
   ],
   "source": [
    "# Número de sobreviventes por sexo.\n",
    "# 0 - not survived    1 - survived\n",
    "pd.crosstab(train['Sex'],train['Survived'])"
   ]
  },
  {
   "cell_type": "code",
   "execution_count": 17,
   "metadata": {},
   "outputs": [
    {
     "data": {
      "text/html": [
       "<div>\n",
       "<style scoped>\n",
       "    .dataframe tbody tr th:only-of-type {\n",
       "        vertical-align: middle;\n",
       "    }\n",
       "\n",
       "    .dataframe tbody tr th {\n",
       "        vertical-align: top;\n",
       "    }\n",
       "\n",
       "    .dataframe thead th {\n",
       "        text-align: right;\n",
       "    }\n",
       "</style>\n",
       "<table border=\"1\" class=\"dataframe\">\n",
       "  <thead>\n",
       "    <tr style=\"text-align: right;\">\n",
       "      <th></th>\n",
       "      <th>Sex</th>\n",
       "      <th>Survived</th>\n",
       "    </tr>\n",
       "  </thead>\n",
       "  <tbody>\n",
       "    <tr>\n",
       "      <th>0</th>\n",
       "      <td>female</td>\n",
       "      <td>0.742038</td>\n",
       "    </tr>\n",
       "    <tr>\n",
       "      <th>1</th>\n",
       "      <td>male</td>\n",
       "      <td>0.188908</td>\n",
       "    </tr>\n",
       "  </tbody>\n",
       "</table>\n",
       "</div>"
      ],
      "text/plain": [
       "      Sex  Survived\n",
       "0  female  0.742038\n",
       "1    male  0.188908"
      ]
     },
     "execution_count": 17,
     "metadata": {},
     "output_type": "execute_result"
    }
   ],
   "source": [
    "# Média de sobreviventes de cada sexo.\n",
    "train[['Sex','Survived']].groupby(['Sex'], as_index = False).mean().sort_values(by='Survived',ascending=False)"
   ]
  },
  {
   "cell_type": "markdown",
   "metadata": {},
   "source": [
    "Podemos observar que o número de sobreviventes do sexo feminino foi maior, pois no caso do Titanic, o capitão ordenou que as mulheres e as crianças fossem colocados a salvo primeiro."
   ]
  },
  {
   "cell_type": "code",
   "execution_count": 18,
   "metadata": {},
   "outputs": [
    {
     "data": {
      "text/plain": [
       "<matplotlib.axes._subplots.AxesSubplot at 0x253a6f9fcc0>"
      ]
     },
     "execution_count": 18,
     "metadata": {},
     "output_type": "execute_result"
    },
    {
     "data": {
      "image/png": "[encoded data removed]",
      "text/plain": [
       "<Figure size 432x288 with 1 Axes>"
      ]
     },
     "metadata": {
      "needs_background": "light"
     },
     "output_type": "display_data"
    }
   ],
   "source": [
    "sns.countplot(x='Survived' ,hue='Sex', data=train, palette='rainbow')"
   ]
  },
  {
   "cell_type": "code",
   "execution_count": 19,
   "metadata": {},
   "outputs": [
    {
     "data": {
      "text/plain": [
       "S    644\n",
       "C    168\n",
       "Q     77\n",
       "Name: Embarked, dtype: int64"
      ]
     },
     "execution_count": 19,
     "metadata": {},
     "output_type": "execute_result"
    }
   ],
   "source": [
    "# Número de passageiros de acordo com a país de embarque.\n",
    "# S-> Southampton (Reino Unido)\n",
    "# C-> Cherbourg-Octeville (França)\n",
    "# Q-> Queenstown (Irlanda)\n",
    "train['Embarked'].value_counts()"
   ]
  },
  {
   "cell_type": "markdown",
   "metadata": {},
   "source": [
    "O Titanic deixou o porto de Southampton às 12h15min do dia 10 de abril de 1912,isso explica o maior número de passageiros provenientes desse país."
   ]
  },
  {
   "cell_type": "code",
   "execution_count": 20,
   "metadata": {},
   "outputs": [
    {
     "data": {
      "text/html": [
       "<div>\n",
       "<style scoped>\n",
       "    .dataframe tbody tr th:only-of-type {\n",
       "        vertical-align: middle;\n",
       "    }\n",
       "\n",
       "    .dataframe tbody tr th {\n",
       "        vertical-align: top;\n",
       "    }\n",
       "\n",
       "    .dataframe thead th {\n",
       "        text-align: right;\n",
       "    }\n",
       "</style>\n",
       "<table border=\"1\" class=\"dataframe\">\n",
       "  <thead>\n",
       "    <tr style=\"text-align: right;\">\n",
       "      <th>Survived</th>\n",
       "      <th>0</th>\n",
       "      <th>1</th>\n",
       "    </tr>\n",
       "    <tr>\n",
       "      <th>Embarked</th>\n",
       "      <th></th>\n",
       "      <th></th>\n",
       "    </tr>\n",
       "  </thead>\n",
       "  <tbody>\n",
       "    <tr>\n",
       "      <th>C</th>\n",
       "      <td>75</td>\n",
       "      <td>93</td>\n",
       "    </tr>\n",
       "    <tr>\n",
       "      <th>Q</th>\n",
       "      <td>47</td>\n",
       "      <td>30</td>\n",
       "    </tr>\n",
       "    <tr>\n",
       "      <th>S</th>\n",
       "      <td>427</td>\n",
       "      <td>217</td>\n",
       "    </tr>\n",
       "  </tbody>\n",
       "</table>\n",
       "</div>"
      ],
      "text/plain": [
       "Survived    0    1\n",
       "Embarked          \n",
       "C          75   93\n",
       "Q          47   30\n",
       "S         427  217"
      ]
     },
     "execution_count": 20,
     "metadata": {},
     "output_type": "execute_result"
    }
   ],
   "source": [
    "# Número de sobreviventes por país de embarque.\n",
    "# 0 - not survived    1 - survived\n",
    "pd.crosstab(train['Embarked'],train['Survived'])"
   ]
  },
  {
   "cell_type": "code",
   "execution_count": 21,
   "metadata": {},
   "outputs": [
    {
     "data": {
      "text/html": [
       "<div>\n",
       "<style scoped>\n",
       "    .dataframe tbody tr th:only-of-type {\n",
       "        vertical-align: middle;\n",
       "    }\n",
       "\n",
       "    .dataframe tbody tr th {\n",
       "        vertical-align: top;\n",
       "    }\n",
       "\n",
       "    .dataframe thead th {\n",
       "        text-align: right;\n",
       "    }\n",
       "</style>\n",
       "<table border=\"1\" class=\"dataframe\">\n",
       "  <thead>\n",
       "    <tr style=\"text-align: right;\">\n",
       "      <th></th>\n",
       "      <th>Embarked</th>\n",
       "      <th>Survived</th>\n",
       "    </tr>\n",
       "  </thead>\n",
       "  <tbody>\n",
       "    <tr>\n",
       "      <th>0</th>\n",
       "      <td>C</td>\n",
       "      <td>0.553571</td>\n",
       "    </tr>\n",
       "    <tr>\n",
       "      <th>1</th>\n",
       "      <td>Q</td>\n",
       "      <td>0.389610</td>\n",
       "    </tr>\n",
       "    <tr>\n",
       "      <th>2</th>\n",
       "      <td>S</td>\n",
       "      <td>0.336957</td>\n",
       "    </tr>\n",
       "  </tbody>\n",
       "</table>\n",
       "</div>"
      ],
      "text/plain": [
       "  Embarked  Survived\n",
       "0        C  0.553571\n",
       "1        Q  0.389610\n",
       "2        S  0.336957"
      ]
     },
     "execution_count": 21,
     "metadata": {},
     "output_type": "execute_result"
    }
   ],
   "source": [
    "# Média de sobreviventes de acordo com o país que ele embarcou.\n",
    "train[['Embarked','Survived']].groupby(['Embarked'], as_index = False).mean().sort_values(by='Survived',ascending=False)"
   ]
  },
  {
   "cell_type": "code",
   "execution_count": 22,
   "metadata": {},
   "outputs": [
    {
     "data": {
      "text/plain": [
       "<matplotlib.axes._subplots.AxesSubplot at 0x253a7011dd8>"
      ]
     },
     "execution_count": 22,
     "metadata": {},
     "output_type": "execute_result"
    },
    {
     "data": {
      "image/png": "[encoded data removed]",
      "text/plain": [
       "<Figure size 432x288 with 1 Axes>"
      ]
     },
     "metadata": {
      "needs_background": "light"
     },
     "output_type": "display_data"
    }
   ],
   "source": [
    "sns.barplot(x='Embarked', y='Survived', data=train, palette='rainbow')"
   ]
  },
  {
   "cell_type": "code",
   "execution_count": 23,
   "metadata": {},
   "outputs": [
    {
     "data": {
      "text/plain": [
       "0    678\n",
       "1    118\n",
       "2     80\n",
       "5      5\n",
       "3      5\n",
       "4      4\n",
       "6      1\n",
       "Name: Parch, dtype: int64"
      ]
     },
     "execution_count": 23,
     "metadata": {},
     "output_type": "execute_result"
    }
   ],
   "source": [
    "# Número de pais e filhos viajando com o passageiro.\n",
    "train['Parch'].value_counts()"
   ]
  },
  {
   "cell_type": "code",
   "execution_count": 24,
   "metadata": {},
   "outputs": [
    {
     "data": {
      "text/html": [
       "<div>\n",
       "<style scoped>\n",
       "    .dataframe tbody tr th:only-of-type {\n",
       "        vertical-align: middle;\n",
       "    }\n",
       "\n",
       "    .dataframe tbody tr th {\n",
       "        vertical-align: top;\n",
       "    }\n",
       "\n",
       "    .dataframe thead th {\n",
       "        text-align: right;\n",
       "    }\n",
       "</style>\n",
       "<table border=\"1\" class=\"dataframe\">\n",
       "  <thead>\n",
       "    <tr style=\"text-align: right;\">\n",
       "      <th>Survived</th>\n",
       "      <th>0</th>\n",
       "      <th>1</th>\n",
       "    </tr>\n",
       "    <tr>\n",
       "      <th>Parch</th>\n",
       "      <th></th>\n",
       "      <th></th>\n",
       "    </tr>\n",
       "  </thead>\n",
       "  <tbody>\n",
       "    <tr>\n",
       "      <th>0</th>\n",
       "      <td>445</td>\n",
       "      <td>233</td>\n",
       "    </tr>\n",
       "    <tr>\n",
       "      <th>1</th>\n",
       "      <td>53</td>\n",
       "      <td>65</td>\n",
       "    </tr>\n",
       "    <tr>\n",
       "      <th>2</th>\n",
       "      <td>40</td>\n",
       "      <td>40</td>\n",
       "    </tr>\n",
       "    <tr>\n",
       "      <th>3</th>\n",
       "      <td>2</td>\n",
       "      <td>3</td>\n",
       "    </tr>\n",
       "    <tr>\n",
       "      <th>4</th>\n",
       "      <td>4</td>\n",
       "      <td>0</td>\n",
       "    </tr>\n",
       "    <tr>\n",
       "      <th>5</th>\n",
       "      <td>4</td>\n",
       "      <td>1</td>\n",
       "    </tr>\n",
       "    <tr>\n",
       "      <th>6</th>\n",
       "      <td>1</td>\n",
       "      <td>0</td>\n",
       "    </tr>\n",
       "  </tbody>\n",
       "</table>\n",
       "</div>"
      ],
      "text/plain": [
       "Survived    0    1\n",
       "Parch             \n",
       "0         445  233\n",
       "1          53   65\n",
       "2          40   40\n",
       "3           2    3\n",
       "4           4    0\n",
       "5           4    1\n",
       "6           1    0"
      ]
     },
     "execution_count": 24,
     "metadata": {},
     "output_type": "execute_result"
    }
   ],
   "source": [
    "# Número de sobreviventes de acordo com a quantidade de pais e filhos viajando com o passageiro.\n",
    "# 0 - not survived    1 - survived\n",
    "pd.crosstab(train['Parch'],train['Survived'])"
   ]
  },
  {
   "cell_type": "code",
   "execution_count": 25,
   "metadata": {},
   "outputs": [
    {
     "data": {
      "text/html": [
       "<div>\n",
       "<style scoped>\n",
       "    .dataframe tbody tr th:only-of-type {\n",
       "        vertical-align: middle;\n",
       "    }\n",
       "\n",
       "    .dataframe tbody tr th {\n",
       "        vertical-align: top;\n",
       "    }\n",
       "\n",
       "    .dataframe thead th {\n",
       "        text-align: right;\n",
       "    }\n",
       "</style>\n",
       "<table border=\"1\" class=\"dataframe\">\n",
       "  <thead>\n",
       "    <tr style=\"text-align: right;\">\n",
       "      <th></th>\n",
       "      <th>Parch</th>\n",
       "      <th>Survived</th>\n",
       "    </tr>\n",
       "  </thead>\n",
       "  <tbody>\n",
       "    <tr>\n",
       "      <th>3</th>\n",
       "      <td>3</td>\n",
       "      <td>0.600000</td>\n",
       "    </tr>\n",
       "    <tr>\n",
       "      <th>1</th>\n",
       "      <td>1</td>\n",
       "      <td>0.550847</td>\n",
       "    </tr>\n",
       "    <tr>\n",
       "      <th>2</th>\n",
       "      <td>2</td>\n",
       "      <td>0.500000</td>\n",
       "    </tr>\n",
       "    <tr>\n",
       "      <th>0</th>\n",
       "      <td>0</td>\n",
       "      <td>0.343658</td>\n",
       "    </tr>\n",
       "    <tr>\n",
       "      <th>5</th>\n",
       "      <td>5</td>\n",
       "      <td>0.200000</td>\n",
       "    </tr>\n",
       "    <tr>\n",
       "      <th>4</th>\n",
       "      <td>4</td>\n",
       "      <td>0.000000</td>\n",
       "    </tr>\n",
       "    <tr>\n",
       "      <th>6</th>\n",
       "      <td>6</td>\n",
       "      <td>0.000000</td>\n",
       "    </tr>\n",
       "  </tbody>\n",
       "</table>\n",
       "</div>"
      ],
      "text/plain": [
       "   Parch  Survived\n",
       "3      3  0.600000\n",
       "1      1  0.550847\n",
       "2      2  0.500000\n",
       "0      0  0.343658\n",
       "5      5  0.200000\n",
       "4      4  0.000000\n",
       "6      6  0.000000"
      ]
     },
     "execution_count": 25,
     "metadata": {},
     "output_type": "execute_result"
    }
   ],
   "source": [
    "# Média de sobrevivência com base no número de pais/ filhos que o passageiro tinha no navio.\n",
    "train[['Parch','Survived']].groupby(['Parch'], as_index = False).mean().sort_values(by='Survived',ascending=False)"
   ]
  },
  {
   "cell_type": "code",
   "execution_count": 26,
   "metadata": {},
   "outputs": [
    {
     "data": {
      "text/plain": [
       "<matplotlib.axes._subplots.AxesSubplot at 0x253a7060c50>"
      ]
     },
     "execution_count": 26,
     "metadata": {},
     "output_type": "execute_result"
    },
    {
     "data": {
      "image/png": "[encoded data removed]",
      "text/plain": [
       "<Figure size 432x288 with 1 Axes>"
      ]
     },
     "metadata": {
      "needs_background": "light"
     },
     "output_type": "display_data"
    }
   ],
   "source": [
    "sns.barplot(x='Parch', y='Survived', data=train, palette='rainbow')"
   ]
  },
  {
   "cell_type": "code",
   "execution_count": 27,
   "metadata": {},
   "outputs": [
    {
     "data": {
      "text/plain": [
       "0    608\n",
       "1    209\n",
       "2     28\n",
       "4     18\n",
       "3     16\n",
       "8      7\n",
       "5      5\n",
       "Name: SibSp, dtype: int64"
      ]
     },
     "execution_count": 27,
     "metadata": {},
     "output_type": "execute_result"
    }
   ],
   "source": [
    "# Número de irmãos e cônjuges viajando com o passageiro.\n",
    "train['SibSp'].value_counts()"
   ]
  },
  {
   "cell_type": "code",
   "execution_count": 28,
   "metadata": {},
   "outputs": [
    {
     "data": {
      "text/html": [
       "<div>\n",
       "<style scoped>\n",
       "    .dataframe tbody tr th:only-of-type {\n",
       "        vertical-align: middle;\n",
       "    }\n",
       "\n",
       "    .dataframe tbody tr th {\n",
       "        vertical-align: top;\n",
       "    }\n",
       "\n",
       "    .dataframe thead th {\n",
       "        text-align: right;\n",
       "    }\n",
       "</style>\n",
       "<table border=\"1\" class=\"dataframe\">\n",
       "  <thead>\n",
       "    <tr style=\"text-align: right;\">\n",
       "      <th>Survived</th>\n",
       "      <th>0</th>\n",
       "      <th>1</th>\n",
       "    </tr>\n",
       "    <tr>\n",
       "      <th>SibSp</th>\n",
       "      <th></th>\n",
       "      <th></th>\n",
       "    </tr>\n",
       "  </thead>\n",
       "  <tbody>\n",
       "    <tr>\n",
       "      <th>0</th>\n",
       "      <td>398</td>\n",
       "      <td>210</td>\n",
       "    </tr>\n",
       "    <tr>\n",
       "      <th>1</th>\n",
       "      <td>97</td>\n",
       "      <td>112</td>\n",
       "    </tr>\n",
       "    <tr>\n",
       "      <th>2</th>\n",
       "      <td>15</td>\n",
       "      <td>13</td>\n",
       "    </tr>\n",
       "    <tr>\n",
       "      <th>3</th>\n",
       "      <td>12</td>\n",
       "      <td>4</td>\n",
       "    </tr>\n",
       "    <tr>\n",
       "      <th>4</th>\n",
       "      <td>15</td>\n",
       "      <td>3</td>\n",
       "    </tr>\n",
       "    <tr>\n",
       "      <th>5</th>\n",
       "      <td>5</td>\n",
       "      <td>0</td>\n",
       "    </tr>\n",
       "    <tr>\n",
       "      <th>8</th>\n",
       "      <td>7</td>\n",
       "      <td>0</td>\n",
       "    </tr>\n",
       "  </tbody>\n",
       "</table>\n",
       "</div>"
      ],
      "text/plain": [
       "Survived    0    1\n",
       "SibSp             \n",
       "0         398  210\n",
       "1          97  112\n",
       "2          15   13\n",
       "3          12    4\n",
       "4          15    3\n",
       "5           5    0\n",
       "8           7    0"
      ]
     },
     "execution_count": 28,
     "metadata": {},
     "output_type": "execute_result"
    }
   ],
   "source": [
    "# Número de sobreviventes de acordo com a quantidade de irmãos e cônjuges viajando com o passageiro.\n",
    "# 0 - not survived    1 - survived\n",
    "pd.crosstab(train['SibSp'],train['Survived'])"
   ]
  },
  {
   "cell_type": "code",
   "execution_count": 29,
   "metadata": {},
   "outputs": [
    {
     "data": {
      "text/html": [
       "<div>\n",
       "<style scoped>\n",
       "    .dataframe tbody tr th:only-of-type {\n",
       "        vertical-align: middle;\n",
       "    }\n",
       "\n",
       "    .dataframe tbody tr th {\n",
       "        vertical-align: top;\n",
       "    }\n",
       "\n",
       "    .dataframe thead th {\n",
       "        text-align: right;\n",
       "    }\n",
       "</style>\n",
       "<table border=\"1\" class=\"dataframe\">\n",
       "  <thead>\n",
       "    <tr style=\"text-align: right;\">\n",
       "      <th></th>\n",
       "      <th>SibSp</th>\n",
       "      <th>Survived</th>\n",
       "    </tr>\n",
       "  </thead>\n",
       "  <tbody>\n",
       "    <tr>\n",
       "      <th>1</th>\n",
       "      <td>1</td>\n",
       "      <td>0.535885</td>\n",
       "    </tr>\n",
       "    <tr>\n",
       "      <th>2</th>\n",
       "      <td>2</td>\n",
       "      <td>0.464286</td>\n",
       "    </tr>\n",
       "    <tr>\n",
       "      <th>0</th>\n",
       "      <td>0</td>\n",
       "      <td>0.345395</td>\n",
       "    </tr>\n",
       "    <tr>\n",
       "      <th>3</th>\n",
       "      <td>3</td>\n",
       "      <td>0.250000</td>\n",
       "    </tr>\n",
       "    <tr>\n",
       "      <th>4</th>\n",
       "      <td>4</td>\n",
       "      <td>0.166667</td>\n",
       "    </tr>\n",
       "    <tr>\n",
       "      <th>5</th>\n",
       "      <td>5</td>\n",
       "      <td>0.000000</td>\n",
       "    </tr>\n",
       "    <tr>\n",
       "      <th>6</th>\n",
       "      <td>8</td>\n",
       "      <td>0.000000</td>\n",
       "    </tr>\n",
       "  </tbody>\n",
       "</table>\n",
       "</div>"
      ],
      "text/plain": [
       "   SibSp  Survived\n",
       "1      1  0.535885\n",
       "2      2  0.464286\n",
       "0      0  0.345395\n",
       "3      3  0.250000\n",
       "4      4  0.166667\n",
       "5      5  0.000000\n",
       "6      8  0.000000"
      ]
     },
     "execution_count": 29,
     "metadata": {},
     "output_type": "execute_result"
    }
   ],
   "source": [
    "# Média de sobrevivência com base no número de irmãos e cônjuges que o passageiro tinha no navio.\n",
    "train[['SibSp','Survived']].groupby(['SibSp'], as_index = False).mean().sort_values(by='Survived',ascending=False)"
   ]
  },
  {
   "cell_type": "code",
   "execution_count": 30,
   "metadata": {},
   "outputs": [
    {
     "data": {
      "text/plain": [
       "<matplotlib.axes._subplots.AxesSubplot at 0x253a70ebf98>"
      ]
     },
     "execution_count": 30,
     "metadata": {},
     "output_type": "execute_result"
    },
    {
     "data": {
      "image/png": "[encoded data removed]",
      "text/plain": [
       "<Figure size 432x288 with 1 Axes>"
      ]
     },
     "metadata": {
      "needs_background": "light"
     },
     "output_type": "display_data"
    }
   ],
   "source": [
    "sns.barplot(x='SibSp', y='Survived', data=train, palette='rainbow')"
   ]
  },
  {
   "cell_type": "code",
   "execution_count": 31,
   "metadata": {},
   "outputs": [
    {
     "data": {
      "text/plain": [
       "Text(0.5, 1.0, 'Distribuição da idade')"
      ]
     },
     "execution_count": 31,
     "metadata": {},
     "output_type": "execute_result"
    },
    {
     "data": {
      "image/png": "[encoded data removed]",
      "text/plain": [
       "<Figure size 864x432 with 1 Axes>"
      ]
     },
     "metadata": {
      "needs_background": "light"
     },
     "output_type": "display_data"
    }
   ],
   "source": [
    "# Distribuição das idades.\n",
    "plt.figure(figsize=(12,6))\n",
    "plt.subplot(1,2,1)\n",
    "fig = train.Age.hist(bins=25)\n",
    "fig.set_title('Distribuição da idade')"
   ]
  },
  {
   "cell_type": "code",
   "execution_count": 32,
   "metadata": {},
   "outputs": [
    {
     "data": {
      "text/plain": [
       "Text(0.5, 1.0, 'Distribuição do valor da passagem')"
      ]
     },
     "execution_count": 32,
     "metadata": {},
     "output_type": "execute_result"
    },
    {
     "data": {
      "image/png": "[encoded data removed]",
      "text/plain": [
       "<Figure size 864x432 with 1 Axes>"
      ]
     },
     "metadata": {
      "needs_background": "light"
     },
     "output_type": "display_data"
    }
   ],
   "source": [
    "# Distribuição dos valores da passagem.\n",
    "plt.figure(figsize=(12,6))\n",
    "plt.subplot(1,2,2)\n",
    "fig = train.Fare.hist(bins=25)\n",
    "fig.set_title('Distribuição do valor da passagem')"
   ]
  },
  {
   "cell_type": "code",
   "execution_count": 33,
   "metadata": {},
   "outputs": [
    {
     "data": {
      "text/plain": [
       "<matplotlib.axes._subplots.AxesSubplot at 0x253a73727f0>"
      ]
     },
     "execution_count": 33,
     "metadata": {},
     "output_type": "execute_result"
    },
    {
     "data": {
      "image/png": "[encoded data removed]",
      "text/plain": [
       "<Figure size 1080x432 with 2 Axes>"
      ]
     },
     "metadata": {
      "needs_background": "light"
     },
     "output_type": "display_data"
    }
   ],
   "source": [
    "# Matriz de correlação.\n",
    "# Possibilita a análise simultânea da associação entre variáveis.\n",
    "plt.figure(figsize=(15,6))\n",
    "sns.heatmap(train.drop('PassengerId',axis=1).corr(), vmax=0.6, square=True, annot=True)"
   ]
  },
  {
   "cell_type": "markdown",
   "metadata": {},
   "source": [
    "# Tratamento dos Dados ausentes"
   ]
  },
  {
   "cell_type": "code",
   "execution_count": 34,
   "metadata": {},
   "outputs": [
    {
     "data": {
      "text/plain": [
       "Cabin          687\n",
       "Age            177\n",
       "Embarked         2\n",
       "Fare             0\n",
       "Ticket           0\n",
       "Parch            0\n",
       "SibSp            0\n",
       "Sex              0\n",
       "Name             0\n",
       "Pclass           0\n",
       "Survived         0\n",
       "PassengerId      0\n",
       "dtype: int64"
      ]
     },
     "execution_count": 34,
     "metadata": {},
     "output_type": "execute_result"
    }
   ],
   "source": [
    "# Verificando a quantidade de valores nulos no dataset de treino.\n",
    "train.isnull().sum().sort_values(ascending=False)"
   ]
  },
  {
   "cell_type": "code",
   "execution_count": 35,
   "metadata": {},
   "outputs": [
    {
     "data": {
      "text/plain": [
       "Cabin          327\n",
       "Age             86\n",
       "Fare             1\n",
       "Embarked         0\n",
       "Ticket           0\n",
       "Parch            0\n",
       "SibSp            0\n",
       "Sex              0\n",
       "Name             0\n",
       "Pclass           0\n",
       "PassengerId      0\n",
       "dtype: int64"
      ]
     },
     "execution_count": 35,
     "metadata": {},
     "output_type": "execute_result"
    }
   ],
   "source": [
    "# Verificando a quantidade de valores nulos no dataset de teste.\n",
    "test.isnull().sum().sort_values(ascending=False)"
   ]
  },
  {
   "cell_type": "code",
   "execution_count": 36,
   "metadata": {},
   "outputs": [],
   "source": [
    "# Preenchendo os valores nulos da coluna 'Age'.\n",
    "for dataset in data:\n",
    "    dataset['Age'].fillna(dataset['Age'].mean(), inplace=True)"
   ]
  },
  {
   "cell_type": "code",
   "execution_count": 37,
   "metadata": {},
   "outputs": [],
   "source": [
    "# Preenchendo os valores nulos da coluna 'Fare'.\n",
    "for dataset in data:\n",
    "    dataset['Fare'].fillna(dataset['Fare'].mean(), inplace=True)"
   ]
  },
  {
   "cell_type": "code",
   "execution_count": 38,
   "metadata": {},
   "outputs": [
    {
     "data": {
      "text/plain": [
       "count     889\n",
       "unique      3\n",
       "top         S\n",
       "freq      644\n",
       "Name: Embarked, dtype: object"
      ]
     },
     "execution_count": 38,
     "metadata": {},
     "output_type": "execute_result"
    }
   ],
   "source": [
    "# A coluna possui um número bem pequeno de valores faltantes,\n",
    "# então podemos preencher-la com o valor mais frequente, \n",
    "# Variável que mais se repete na coluna 'Embarked'\n",
    "train['Embarked'].describe()"
   ]
  },
  {
   "cell_type": "code",
   "execution_count": 39,
   "metadata": {},
   "outputs": [
    {
     "data": {
      "text/plain": [
       "Cabin          687\n",
       "Embarked         0\n",
       "Fare             0\n",
       "Ticket           0\n",
       "Parch            0\n",
       "SibSp            0\n",
       "Age              0\n",
       "Sex              0\n",
       "Name             0\n",
       "Pclass           0\n",
       "Survived         0\n",
       "PassengerId      0\n",
       "dtype: int64"
      ]
     },
     "execution_count": 39,
     "metadata": {},
     "output_type": "execute_result"
    }
   ],
   "source": [
    "# Preenchendo os valores nulos da coluna 'Embarked'.\n",
    "top = 'S'\n",
    "for dataset in data:\n",
    "    dataset['Embarked'] = dataset['Embarked'].fillna(top)\n",
    "\n",
    "train.isnull().sum().sort_values(ascending=False)"
   ]
  },
  {
   "cell_type": "markdown",
   "metadata": {},
   "source": [
    "# Transformação dos Dados"
   ]
  },
  {
   "cell_type": "code",
   "execution_count": 40,
   "metadata": {},
   "outputs": [],
   "source": [
    "# Convertendo a coluna 'Embarked' para númerico.\n",
    "ports = {\"S\": 0, \"C\": 1, \"Q\": 2}\n",
    "\n",
    "for dataset in data:\n",
    "    dataset['Embarked'] = dataset['Embarked'].map(ports)"
   ]
  },
  {
   "cell_type": "code",
   "execution_count": 41,
   "metadata": {},
   "outputs": [],
   "source": [
    "# Convertendo a coluna 'Sex' para númerico.\n",
    "genders = {\"male\": 0, \"female\": 1}\n",
    "\n",
    "for dataset in data:\n",
    "    dataset['Sex'] = dataset['Sex'].map(genders)"
   ]
  },
  {
   "cell_type": "code",
   "execution_count": 42,
   "metadata": {},
   "outputs": [
    {
     "data": {
      "text/html": [
       "<div>\n",
       "<style scoped>\n",
       "    .dataframe tbody tr th:only-of-type {\n",
       "        vertical-align: middle;\n",
       "    }\n",
       "\n",
       "    .dataframe tbody tr th {\n",
       "        vertical-align: top;\n",
       "    }\n",
       "\n",
       "    .dataframe thead th {\n",
       "        text-align: right;\n",
       "    }\n",
       "</style>\n",
       "<table border=\"1\" class=\"dataframe\">\n",
       "  <thead>\n",
       "    <tr style=\"text-align: right;\">\n",
       "      <th></th>\n",
       "      <th>PassengerId</th>\n",
       "      <th>Survived</th>\n",
       "      <th>Pclass</th>\n",
       "      <th>Name</th>\n",
       "      <th>Sex</th>\n",
       "      <th>Age</th>\n",
       "      <th>SibSp</th>\n",
       "      <th>Parch</th>\n",
       "      <th>Ticket</th>\n",
       "      <th>Fare</th>\n",
       "      <th>Cabin</th>\n",
       "      <th>Embarked</th>\n",
       "      <th>Title</th>\n",
       "    </tr>\n",
       "  </thead>\n",
       "  <tbody>\n",
       "    <tr>\n",
       "      <th>0</th>\n",
       "      <td>1</td>\n",
       "      <td>0</td>\n",
       "      <td>3</td>\n",
       "      <td>Braund, Mr. Owen Harris</td>\n",
       "      <td>0</td>\n",
       "      <td>22.0</td>\n",
       "      <td>1</td>\n",
       "      <td>0</td>\n",
       "      <td>A/5 21171</td>\n",
       "      <td>7.2500</td>\n",
       "      <td>NaN</td>\n",
       "      <td>0</td>\n",
       "      <td>Mr</td>\n",
       "    </tr>\n",
       "    <tr>\n",
       "      <th>1</th>\n",
       "      <td>2</td>\n",
       "      <td>1</td>\n",
       "      <td>1</td>\n",
       "      <td>Cumings, Mrs. John Bradley (Florence Briggs Th...</td>\n",
       "      <td>1</td>\n",
       "      <td>38.0</td>\n",
       "      <td>1</td>\n",
       "      <td>0</td>\n",
       "      <td>PC 17599</td>\n",
       "      <td>71.2833</td>\n",
       "      <td>C85</td>\n",
       "      <td>1</td>\n",
       "      <td>Mrs</td>\n",
       "    </tr>\n",
       "    <tr>\n",
       "      <th>2</th>\n",
       "      <td>3</td>\n",
       "      <td>1</td>\n",
       "      <td>3</td>\n",
       "      <td>Heikkinen, Miss. Laina</td>\n",
       "      <td>1</td>\n",
       "      <td>26.0</td>\n",
       "      <td>0</td>\n",
       "      <td>0</td>\n",
       "      <td>STON/O2. 3101282</td>\n",
       "      <td>7.9250</td>\n",
       "      <td>NaN</td>\n",
       "      <td>0</td>\n",
       "      <td>Miss</td>\n",
       "    </tr>\n",
       "    <tr>\n",
       "      <th>3</th>\n",
       "      <td>4</td>\n",
       "      <td>1</td>\n",
       "      <td>1</td>\n",
       "      <td>Futrelle, Mrs. Jacques Heath (Lily May Peel)</td>\n",
       "      <td>1</td>\n",
       "      <td>35.0</td>\n",
       "      <td>1</td>\n",
       "      <td>0</td>\n",
       "      <td>113803</td>\n",
       "      <td>53.1000</td>\n",
       "      <td>C123</td>\n",
       "      <td>0</td>\n",
       "      <td>Mrs</td>\n",
       "    </tr>\n",
       "    <tr>\n",
       "      <th>4</th>\n",
       "      <td>5</td>\n",
       "      <td>0</td>\n",
       "      <td>3</td>\n",
       "      <td>Allen, Mr. William Henry</td>\n",
       "      <td>0</td>\n",
       "      <td>35.0</td>\n",
       "      <td>0</td>\n",
       "      <td>0</td>\n",
       "      <td>373450</td>\n",
       "      <td>8.0500</td>\n",
       "      <td>NaN</td>\n",
       "      <td>0</td>\n",
       "      <td>Mr</td>\n",
       "    </tr>\n",
       "  </tbody>\n",
       "</table>\n",
       "</div>"
      ],
      "text/plain": [
       "   PassengerId  Survived  Pclass  \\\n",
       "0            1         0       3   \n",
       "1            2         1       1   \n",
       "2            3         1       3   \n",
       "3            4         1       1   \n",
       "4            5         0       3   \n",
       "\n",
       "                                                Name  Sex   Age  SibSp  Parch  \\\n",
       "0                            Braund, Mr. Owen Harris    0  22.0      1      0   \n",
       "1  Cumings, Mrs. John Bradley (Florence Briggs Th...    1  38.0      1      0   \n",
       "2                             Heikkinen, Miss. Laina    1  26.0      0      0   \n",
       "3       Futrelle, Mrs. Jacques Heath (Lily May Peel)    1  35.0      1      0   \n",
       "4                           Allen, Mr. William Henry    0  35.0      0      0   \n",
       "\n",
       "             Ticket     Fare Cabin  Embarked Title  \n",
       "0         A/5 21171   7.2500   NaN         0    Mr  \n",
       "1          PC 17599  71.2833   C85         1   Mrs  \n",
       "2  STON/O2. 3101282   7.9250   NaN         0  Miss  \n",
       "3            113803  53.1000  C123         0   Mrs  \n",
       "4            373450   8.0500   NaN         0    Mr  "
      ]
     },
     "execution_count": 42,
     "metadata": {},
     "output_type": "execute_result"
    }
   ],
   "source": [
    "# Podemos observar que os nomes estão acompanhados de títulos, vamos extrair esses títulos para saber se eles tem alguma correlação entre as variáveis.\n",
    "for dataset in data:\n",
    "    dataset['Title'] = dataset['Name'].apply(lambda x: x.split(',')[1].split('.')[0].strip())\n",
    "train.head()"
   ]
  },
  {
   "cell_type": "code",
   "execution_count": 43,
   "metadata": {},
   "outputs": [],
   "source": [
    "# Iremos agrupar esses títulos nas seguintes categorias:\n",
    "\n",
    "# Miss -> Mulheres jovens.\n",
    "# Mr -> Homens casados.\n",
    "# Mrs -> Mulheres casadas.\n",
    "# Master -> Homens jovens.\n",
    "# Rare -> Capitão,médicos,reverendos e pessoas da alta realeza.\n",
    "\n",
    "# Definindo valores para cada título.\n",
    "titles = {\"Mr\": 1, \"Miss\": 2, \"Mrs\": 3, \"Master\": 4, \"Rare\": 5}\n",
    "\n",
    "for dataset in data:\n",
    "    dataset['Title'] = dataset['Title'].replace('Mlle', 'Miss')\n",
    "    dataset['Title'] = dataset['Title'].replace('Ms', 'Miss')\n",
    "    dataset['Title'] = dataset['Title'].replace('Mme', 'Mrs')\n",
    "    dataset['Title'] = dataset['Title'].replace(['Lady','the Countess','Don','Sir','Jonkheer','Capt','Col','Dr','Major','Rev','Dona'],'Rare')\n",
    "    dataset['Title'] = dataset['Title'].map(titles)\n",
    "    dataset['Title'] = dataset ['Title']. fillna (0) \n",
    "\n",
    "# Taxa de sobrevivência com base nos títulos.\n",
    "train[['Title','Survived']].groupby(['Title'],as_index=False).mean()\n",
    "train.drop(['Name','Ticket','Cabin'],axis=1, inplace=True)"
   ]
  },
  {
   "cell_type": "code",
   "execution_count": 44,
   "metadata": {},
   "outputs": [
    {
     "data": {
      "text/plain": [
       "<matplotlib.axes._subplots.AxesSubplot at 0x253a75d1710>"
      ]
     },
     "execution_count": 44,
     "metadata": {},
     "output_type": "execute_result"
    },
    {
     "data": {
      "image/png": "[encoded data removed]",
      "text/plain": [
       "<Figure size 432x288 with 1 Axes>"
      ]
     },
     "metadata": {
      "needs_background": "light"
     },
     "output_type": "display_data"
    }
   ],
   "source": [
    "sns.barplot(x='Title', y='Survived', data=train, palette='rainbow')"
   ]
  },
  {
   "cell_type": "code",
   "execution_count": 45,
   "metadata": {},
   "outputs": [
    {
     "data": {
      "text/html": [
       "<div>\n",
       "<style scoped>\n",
       "    .dataframe tbody tr th:only-of-type {\n",
       "        vertical-align: middle;\n",
       "    }\n",
       "\n",
       "    .dataframe tbody tr th {\n",
       "        vertical-align: top;\n",
       "    }\n",
       "\n",
       "    .dataframe thead th {\n",
       "        text-align: right;\n",
       "    }\n",
       "</style>\n",
       "<table border=\"1\" class=\"dataframe\">\n",
       "  <thead>\n",
       "    <tr style=\"text-align: right;\">\n",
       "      <th></th>\n",
       "      <th>Family</th>\n",
       "      <th>Survived</th>\n",
       "    </tr>\n",
       "  </thead>\n",
       "  <tbody>\n",
       "    <tr>\n",
       "      <th>3</th>\n",
       "      <td>4</td>\n",
       "      <td>0.724138</td>\n",
       "    </tr>\n",
       "    <tr>\n",
       "      <th>2</th>\n",
       "      <td>3</td>\n",
       "      <td>0.578431</td>\n",
       "    </tr>\n",
       "    <tr>\n",
       "      <th>1</th>\n",
       "      <td>2</td>\n",
       "      <td>0.552795</td>\n",
       "    </tr>\n",
       "    <tr>\n",
       "      <th>6</th>\n",
       "      <td>7</td>\n",
       "      <td>0.333333</td>\n",
       "    </tr>\n",
       "    <tr>\n",
       "      <th>0</th>\n",
       "      <td>1</td>\n",
       "      <td>0.303538</td>\n",
       "    </tr>\n",
       "    <tr>\n",
       "      <th>4</th>\n",
       "      <td>5</td>\n",
       "      <td>0.200000</td>\n",
       "    </tr>\n",
       "    <tr>\n",
       "      <th>5</th>\n",
       "      <td>6</td>\n",
       "      <td>0.136364</td>\n",
       "    </tr>\n",
       "    <tr>\n",
       "      <th>7</th>\n",
       "      <td>8</td>\n",
       "      <td>0.000000</td>\n",
       "    </tr>\n",
       "    <tr>\n",
       "      <th>8</th>\n",
       "      <td>11</td>\n",
       "      <td>0.000000</td>\n",
       "    </tr>\n",
       "  </tbody>\n",
       "</table>\n",
       "</div>"
      ],
      "text/plain": [
       "   Family  Survived\n",
       "3       4  0.724138\n",
       "2       3  0.578431\n",
       "1       2  0.552795\n",
       "6       7  0.333333\n",
       "0       1  0.303538\n",
       "4       5  0.200000\n",
       "5       6  0.136364\n",
       "7       8  0.000000\n",
       "8      11  0.000000"
      ]
     },
     "execution_count": 45,
     "metadata": {},
     "output_type": "execute_result"
    }
   ],
   "source": [
    "# Vamos unir a coluna 'SibSp' e 'Parch' para criar uma nova coluna 'Family'.\n",
    "# Tudo indica que essas duas colunas juntas nos dão o número de membros de uma mesma família.\n",
    "for dataset in data:\n",
    "    dataset['Family'] = dataset['SibSp'] + dataset['Parch'] + 1\n",
    "    \n",
    "# Média de sobrevivência com base no número de membros da família no navio. \n",
    "train[['Family','Survived']].groupby(['Family'], as_index = False).mean().sort_values(by='Survived',ascending=False)"
   ]
  },
  {
   "cell_type": "code",
   "execution_count": 46,
   "metadata": {},
   "outputs": [
    {
     "data": {
      "text/plain": [
       "<matplotlib.axes._subplots.AxesSubplot at 0x253a73d96d8>"
      ]
     },
     "execution_count": 46,
     "metadata": {},
     "output_type": "execute_result"
    },
    {
     "data": {
      "image/png": "[encoded data removed]",
      "text/plain": [
       "<Figure size 432x288 with 1 Axes>"
      ]
     },
     "metadata": {
      "needs_background": "light"
     },
     "output_type": "display_data"
    }
   ],
   "source": [
    "sns.barplot(x='Family', y='Survived', data=train, palette='rainbow')"
   ]
  },
  {
   "cell_type": "code",
   "execution_count": 47,
   "metadata": {},
   "outputs": [
    {
     "data": {
      "text/html": [
       "<div>\n",
       "<style scoped>\n",
       "    .dataframe tbody tr th:only-of-type {\n",
       "        vertical-align: middle;\n",
       "    }\n",
       "\n",
       "    .dataframe tbody tr th {\n",
       "        vertical-align: top;\n",
       "    }\n",
       "\n",
       "    .dataframe thead th {\n",
       "        text-align: right;\n",
       "    }\n",
       "</style>\n",
       "<table border=\"1\" class=\"dataframe\">\n",
       "  <thead>\n",
       "    <tr style=\"text-align: right;\">\n",
       "      <th></th>\n",
       "      <th>Alone</th>\n",
       "      <th>Survived</th>\n",
       "    </tr>\n",
       "  </thead>\n",
       "  <tbody>\n",
       "    <tr>\n",
       "      <th>0</th>\n",
       "      <td>0</td>\n",
       "      <td>0.505650</td>\n",
       "    </tr>\n",
       "    <tr>\n",
       "      <th>1</th>\n",
       "      <td>1</td>\n",
       "      <td>0.303538</td>\n",
       "    </tr>\n",
       "  </tbody>\n",
       "</table>\n",
       "</div>"
      ],
      "text/plain": [
       "   Alone  Survived\n",
       "0      0  0.505650\n",
       "1      1  0.303538"
      ]
     },
     "execution_count": 47,
     "metadata": {},
     "output_type": "execute_result"
    }
   ],
   "source": [
    "# Vamos verificar se quem viajava sozinho tinha mais chance de sobreviver.\n",
    "for dataset in data:\n",
    "    dataset['Alone'] = dataset['Family'].apply(lambda x: x if x == 1 else 0)\n",
    "\n",
    "# Média de sobrevivência com base no número de membros da família no navio.\n",
    "train[['Alone','Survived']].groupby(['Alone'], as_index = False).mean().sort_values(by='Survived',ascending=False)"
   ]
  },
  {
   "cell_type": "code",
   "execution_count": 48,
   "metadata": {},
   "outputs": [
    {
     "data": {
      "text/plain": [
       "<matplotlib.axes._subplots.AxesSubplot at 0x253a745ea90>"
      ]
     },
     "execution_count": 48,
     "metadata": {},
     "output_type": "execute_result"
    },
    {
     "data": {
      "image/png": "[encoded data removed]",
      "text/plain": [
       "<Figure size 432x288 with 1 Axes>"
      ]
     },
     "metadata": {
      "needs_background": "light"
     },
     "output_type": "display_data"
    }
   ],
   "source": [
    "sns.barplot(x='Alone', y='Survived', data=train, palette='rainbow')"
   ]
  },
  {
   "cell_type": "markdown",
   "metadata": {},
   "source": [
    "# Tratando os Outliers"
   ]
  },
  {
   "cell_type": "code",
   "execution_count": 49,
   "metadata": {
    "scrolled": true
   },
   "outputs": [
    {
     "data": {
      "text/plain": [
       "<matplotlib.axes._subplots.AxesSubplot at 0x253a74b5908>"
      ]
     },
     "execution_count": 49,
     "metadata": {},
     "output_type": "execute_result"
    },
    {
     "data": {
      "image/png": "[encoded data removed]",
      "text/plain": [
       "<Figure size 432x288 with 1 Axes>"
      ]
     },
     "metadata": {
      "needs_background": "light"
     },
     "output_type": "display_data"
    }
   ],
   "source": [
    "# Verificando os Outliers\n",
    "# Os valores fora da barreira externa são caracterizados como Outliers.\n",
    "sns.boxplot(data = train.drop('PassengerId',axis=1), orient= 'h')"
   ]
  },
  {
   "cell_type": "code",
   "execution_count": 50,
   "metadata": {},
   "outputs": [
    {
     "name": "stdout",
     "output_type": "stream",
     "text": [
      "Q1 = 22.0 e Q3 = 35.0\n",
      "Os Outliers da coluna Age estão entre -17.0 e 74.0\n"
     ]
    }
   ],
   "source": [
    "# Quartil inferior e superior coluna 'Age'\n",
    "def quartil():\n",
    "    Q1 = train['Age'].quantile(q= 0.25)\n",
    "    Q3 = train['Age'].quantile(q= 0.75)\n",
    "    print(f'Q1 = {Q1} e Q3 = {Q3}')\n",
    "    # Calculando a barreira externa.\n",
    "    amp = Q3 - Q1\n",
    "    limite_max = Q3 + 3 * amp\n",
    "    limite_min = Q1 - 3 * amp\n",
    "    print(f'Os Outliers da coluna Age estão entre {limite_min} e {limite_max}')\n",
    "quartil()"
   ]
  },
  {
   "cell_type": "code",
   "execution_count": 51,
   "metadata": {},
   "outputs": [],
   "source": [
    "# Substituindo os valores.\n",
    "for dataset in data:\n",
    "    dataset['Age'] = np.where(dataset['Age'] > 73, 73, dataset['Age'])"
   ]
  },
  {
   "cell_type": "code",
   "execution_count": 52,
   "metadata": {},
   "outputs": [
    {
     "name": "stdout",
     "output_type": "stream",
     "text": [
      "Q1 = 7.9104 e Q3 = 31.0\n",
      "Os Outliers da coluna Fare estão entre 100.2688 e -61.358399999999996\n"
     ]
    }
   ],
   "source": [
    "# Quartil inferior e superior coluna 'Fare'\n",
    "def quartil():\n",
    "    Q1 = train['Fare'].quantile(q= 0.25)\n",
    "    Q3 = train['Fare'].quantile(q= 0.75)\n",
    "    print(f'Q1 = {Q1} e Q3 = {Q3}')\n",
    "    # Calculando a barreira externa.\n",
    "    amp = Q3 - Q1\n",
    "    limite_max = Q3 + 3 * amp\n",
    "    limite_min = Q1 - 3 * amp\n",
    "    print(f'Os Outliers da coluna Fare estão entre {limite_max} e {limite_min}')\n",
    "quartil()"
   ]
  },
  {
   "cell_type": "code",
   "execution_count": 53,
   "metadata": {},
   "outputs": [],
   "source": [
    "# Substituindo os valores.\n",
    "for dataset in data:\n",
    "    dataset['Fare'] = np.where(dataset['Fare'] > 99, 99, dataset['Fare'])"
   ]
  },
  {
   "cell_type": "code",
   "execution_count": 54,
   "metadata": {},
   "outputs": [
    {
     "data": {
      "text/plain": [
       "<matplotlib.axes._subplots.AxesSubplot at 0x253a7683908>"
      ]
     },
     "execution_count": 54,
     "metadata": {},
     "output_type": "execute_result"
    },
    {
     "data": {
      "image/png": "[encoded data removed]",
      "text/plain": [
       "<Figure size 432x288 with 1 Axes>"
      ]
     },
     "metadata": {
      "needs_background": "light"
     },
     "output_type": "display_data"
    }
   ],
   "source": [
    "# Visualização após o tratamento dos Outliers.\n",
    "# Deixarei alguns Outliers para obtermos um modelo mais generalista.\n",
    "sns.boxplot(data = train.drop('PassengerId',axis=1), orient= 'h')"
   ]
  },
  {
   "cell_type": "markdown",
   "metadata": {},
   "source": [
    "# Feature Selection"
   ]
  },
  {
   "cell_type": "code",
   "execution_count": 55,
   "metadata": {},
   "outputs": [
    {
     "data": {
      "text/plain": [
       "((623, 11), (268, 11))"
      ]
     },
     "execution_count": 55,
     "metadata": {},
     "output_type": "execute_result"
    }
   ],
   "source": [
    "# Separando os dados de treino e teste\n",
    "X_train, X_test, y_train,y_test = train_test_split(train.drop('Survived',axis=1), train['Survived'],\n",
    "test_size=0.3, random_state = 7)\n",
    "X_train.shape,X_test.shape"
   ]
  },
  {
   "cell_type": "code",
   "execution_count": 56,
   "metadata": {},
   "outputs": [
    {
     "data": {
      "text/plain": [
       "((623,), (268,))"
      ]
     },
     "execution_count": 56,
     "metadata": {},
     "output_type": "execute_result"
    }
   ],
   "source": [
    "y_train.shape, y_test.shape"
   ]
  },
  {
   "cell_type": "code",
   "execution_count": 57,
   "metadata": {},
   "outputs": [
    {
     "data": {
      "text/plain": [
       "(array([3.83826131e+01, 1.85687952e+01, 1.35559062e+02, 3.83033143e+01,\n",
       "        2.02648264e+00, 1.24662585e+01, 1.36909337e+03, 1.08947417e+01,\n",
       "        5.53407685e+01, 6.99588918e-01, 9.70484907e+00]),\n",
       " array([5.81481608e-010, 1.63881343e-005, 2.49145403e-031, 6.05597049e-010,\n",
       "        1.54577995e-001, 4.14369251e-004, 1.09284478e-299, 9.64376339e-004,\n",
       "        1.01344703e-013, 4.02921858e-001, 1.83782417e-003]))"
      ]
     },
     "execution_count": 57,
     "metadata": {},
     "output_type": "execute_result"
    }
   ],
   "source": [
    "# Extração de variáveis com testes estatísticos univariados (Teste qui-quadrado)\n",
    "f_score = chi2(X_train, y_train)\n",
    "f_score"
   ]
  },
  {
   "cell_type": "code",
   "execution_count": 58,
   "metadata": {},
   "outputs": [
    {
     "data": {
      "text/plain": [
       "Family          4.029219e-01\n",
       "SibSp           1.545780e-01\n",
       "Alone           1.837824e-03\n",
       "Embarked        9.643763e-04\n",
       "Parch           4.143693e-04\n",
       "Pclass          1.638813e-05\n",
       "Age             6.055970e-10\n",
       "PassengerId     5.814816e-10\n",
       "Title           1.013447e-13\n",
       "Sex             2.491454e-31\n",
       "Fare           1.092845e-299\n",
       "dtype: float64"
      ]
     },
     "execution_count": 58,
     "metadata": {},
     "output_type": "execute_result"
    }
   ],
   "source": [
    "# Listando o P-values por variável\n",
    "p_values = pd.Series(f_score[1])\n",
    "p_values.index = X_train.columns\n",
    "p_values.sort_values(ascending = False)"
   ]
  },
  {
   "cell_type": "code",
   "execution_count": 59,
   "metadata": {},
   "outputs": [],
   "source": [
    "# Selecione como preditoras as variáveis com os menores valores de p_values, pois para o p-value, quanto menor o valor, melhor.\n",
    "# Esse critério se encaixa bem para datasets pequenos\n",
    "predictors = ['Pclass','Alone','Fare','Title','SibSp']"
   ]
  },
  {
   "cell_type": "code",
   "execution_count": 60,
   "metadata": {},
   "outputs": [],
   "source": [
    "X_train = train[predictors].values\n",
    "X_test = test[predictors].values\n",
    "y_train = train['Survived'].values"
   ]
  },
  {
   "cell_type": "markdown",
   "metadata": {},
   "source": [
    "# Modelos Preditivos"
   ]
  },
  {
   "cell_type": "code",
   "execution_count": 61,
   "metadata": {},
   "outputs": [
    {
     "name": "stdout",
     "output_type": "stream",
     "text": [
      "taring score = 0.7384960718294051, while validation score = 0.7980267303877917\n"
     ]
    }
   ],
   "source": [
    "### Naive Bayes ###\n",
    "\n",
    "# Abordagem probabilística (Teorema de Bayes)\n",
    "gaussian = GaussianNB()\n",
    "gaussian.fit(X_train,y_train)\n",
    "prev_gaussian = gaussian.predict(X_test)\n",
    "result_train = gaussian.score(X_train, y_train)\n",
    "result_val = cross_val_score(gaussian,train.drop('Survived',axis=1), train['Survived'], cv=5).mean()\n",
    "print(f'taring score = {result_train}, while validation score = {result_val}')"
   ]
  },
  {
   "cell_type": "code",
   "execution_count": 62,
   "metadata": {},
   "outputs": [
    {
     "name": "stdout",
     "output_type": "stream",
     "text": [
      "taring score = 0.7575757575757576, while validation score = 0.8092124688850613\n"
     ]
    }
   ],
   "source": [
    "### LogisticRegression ###\n",
    "\n",
    "logreg = LogisticRegression()\n",
    "logreg.fit(X_train, y_train)\n",
    "prev_logreg = logreg.predict(X_test)\n",
    "result_train = logreg.score(X_train, y_train)\n",
    "result_val = cross_val_score(logreg,train.drop('Survived',axis=1), train['Survived'], cv=5).mean()\n",
    "print(f'taring score = {result_train}, while validation score = {result_val}')"
   ]
  },
  {
   "cell_type": "code",
   "execution_count": 63,
   "metadata": {},
   "outputs": [
    {
     "name": "stdout",
     "output_type": "stream",
     "text": [
      "taring score = 0.9214365881032548, while validation score = 0.7408989047754316\n"
     ]
    }
   ],
   "source": [
    "### Decision Tree ###\n",
    "\n",
    "decision_tree = DecisionTreeClassifier(criterion='entropy', random_state=7)\n",
    "decision_tree.fit(X_train,y_train)\n",
    "prev_tree = decision_tree.predict(X_test)\n",
    "result_train = decision_tree.score(X_train, y_train)\n",
    "result_val = cross_val_score(decision_tree,train.drop('Survived',axis=1), train['Survived'], cv=5).mean()\n",
    "print(f'taring score = {result_train}, while validation score = {result_val}')"
   ]
  },
  {
   "cell_type": "code",
   "execution_count": 64,
   "metadata": {},
   "outputs": [
    {
     "name": "stdout",
     "output_type": "stream",
     "text": [
      "taring score = 0.8507295173961841, while validation score = 0.5455863155621329\n"
     ]
    }
   ],
   "source": [
    "### KNN ###\n",
    "\n",
    "knn = KNeighborsClassifier(n_neighbors=5, metric='minkowski', p = 2)\n",
    "knn.fit(X_train,y_train)\n",
    "prev_knn = knn.predict(X_test)\n",
    "result_train = knn.score(X_train, y_train)\n",
    "result_val = cross_val_score(knn,train.drop('Survived',axis=1), train['Survived'], cv=5).mean()\n",
    "print(f'taring score = {result_train}, while validation score = {result_val}')"
   ]
  },
  {
   "cell_type": "code",
   "execution_count": 65,
   "metadata": {},
   "outputs": [
    {
     "name": "stdout",
     "output_type": "stream",
     "text": [
      "taring score = 0.9214365881032548, while validation score = 0.8048501181117581\n"
     ]
    }
   ],
   "source": [
    "### Random Forest ###\n",
    "\n",
    "random_forest = RandomForestClassifier(n_estimators=200, criterion='entropy', random_state=7)\n",
    "random_forest.fit(X_train,y_train)\n",
    "prev_random = random_forest.predict(X_test)\n",
    "result_train = random_forest.score(X_train, y_train)\n",
    "result_val = cross_val_score(random_forest,train.drop('Survived',axis=1), train['Survived'], cv=5).mean()\n",
    "print(f'taring score = {result_train}, while validation score = {result_val}')"
   ]
  },
  {
   "cell_type": "code",
   "execution_count": 66,
   "metadata": {},
   "outputs": [
    {
     "name": "stdout",
     "output_type": "stream",
     "text": [
      "taring score = 0.8686868686868687, while validation score = 0.790318772304433\n"
     ]
    }
   ],
   "source": [
    "### XGBoost ###\n",
    "\n",
    "xboost = XGBClassifier()\n",
    "xboost.fit(X_train, y_train)\n",
    "prev_xboost = xboost.predict(X_test)\n",
    "result_train = xboost.score(X_train, y_train)\n",
    "result_val = cross_val_score(xboost,train.drop('Survived',axis=1), train['Survived'], cv=5).mean()\n",
    "print(f'taring score = {result_train}, while validation score = {result_val}')"
   ]
  },
  {
   "cell_type": "code",
   "execution_count": 67,
   "metadata": {},
   "outputs": [
    {
     "name": "stdout",
     "output_type": "stream",
     "text": [
      "taring score = 0.8799102132435466, while validation score = 0.6128066765326602\n"
     ]
    }
   ],
   "source": [
    "### Support vector machines (SVM) ###\n",
    "\n",
    "svc = SVC(kernel = 'rbf', random_state = 7, C = 10.0, gamma='auto')\n",
    "svc.fit(X_train,y_train)\n",
    "previsoes = svc.predict(X_test)\n",
    "result_train = svc.score(X_train, y_train)\n",
    "result_val = cross_val_score(svc,train.drop('Survived',axis=1), train['Survived'], cv=5).mean()\n",
    "print(f'taring score = {result_train}, while validation score = {result_val}')"
   ]
  },
  {
   "cell_type": "code",
   "execution_count": 68,
   "metadata": {},
   "outputs": [
    {
     "name": "stdout",
     "output_type": "stream",
     "text": [
      "Iteration 1, loss = 3.61123712\n",
      "Iteration 2, loss = 2.80712204\n",
      "Iteration 3, loss = 1.98489699\n",
      "Iteration 4, loss = 1.25270954\n",
      "Iteration 5, loss = 0.83372689\n",
      "Iteration 6, loss = 0.91377772\n",
      "Iteration 7, loss = 0.89496008\n",
      "Iteration 8, loss = 0.74155649\n",
      "Iteration 9, loss = 0.69873943\n",
      "Iteration 10, loss = 0.69031513\n",
      "Iteration 11, loss = 0.65006009\n",
      "Iteration 12, loss = 0.63802411\n",
      "Iteration 13, loss = 0.62496532\n",
      "Iteration 14, loss = 0.61136096\n",
      "Iteration 15, loss = 0.60314667\n",
      "Iteration 16, loss = 0.59527051\n",
      "Iteration 17, loss = 0.58931200\n",
      "Iteration 18, loss = 0.58472959\n",
      "Iteration 19, loss = 0.57983354\n",
      "Iteration 20, loss = 0.57624866\n",
      "Iteration 21, loss = 0.57243939\n",
      "Iteration 22, loss = 0.57106772\n",
      "Iteration 23, loss = 0.56721099\n",
      "Iteration 24, loss = 0.56319336\n",
      "Iteration 25, loss = 0.55965905\n",
      "Iteration 26, loss = 0.55709358\n",
      "Iteration 27, loss = 0.55365175\n",
      "Iteration 28, loss = 0.55095465\n",
      "Iteration 29, loss = 0.54808286\n",
      "Iteration 30, loss = 0.54564197\n",
      "Iteration 31, loss = 0.54217629\n",
      "Iteration 32, loss = 0.53960087\n",
      "Iteration 33, loss = 0.53613527\n",
      "Iteration 34, loss = 0.53322615\n",
      "Iteration 35, loss = 0.53109112\n",
      "Iteration 36, loss = 0.52940884\n",
      "Iteration 37, loss = 0.52743765\n",
      "Iteration 38, loss = 0.52384844\n",
      "Iteration 39, loss = 0.52085848\n",
      "Iteration 40, loss = 0.52080037\n",
      "Iteration 41, loss = 0.51836885\n",
      "Iteration 42, loss = 0.51919854\n",
      "Iteration 43, loss = 0.51452288\n",
      "Iteration 44, loss = 0.51283614\n",
      "Iteration 45, loss = 0.51085736\n",
      "Iteration 46, loss = 0.51138815\n",
      "Iteration 47, loss = 0.50757849\n",
      "Iteration 48, loss = 0.50696987\n",
      "Iteration 49, loss = 0.50404966\n",
      "Iteration 50, loss = 0.50335441\n",
      "Iteration 51, loss = 0.50251606\n",
      "Iteration 52, loss = 0.50036463\n",
      "Iteration 53, loss = 0.49893928\n",
      "Iteration 54, loss = 0.49556025\n",
      "Iteration 55, loss = 0.49459052\n",
      "Iteration 56, loss = 0.49270173\n",
      "Iteration 57, loss = 0.49204168\n",
      "Iteration 58, loss = 0.49049987\n",
      "Iteration 59, loss = 0.49083013\n",
      "Iteration 60, loss = 0.48854332\n",
      "Iteration 61, loss = 0.48748783\n",
      "Iteration 62, loss = 0.48744270\n",
      "Iteration 63, loss = 0.48382086\n",
      "Iteration 64, loss = 0.48410172\n",
      "Iteration 65, loss = 0.48288809\n",
      "Iteration 66, loss = 0.48097723\n",
      "Iteration 67, loss = 0.48033826\n",
      "Iteration 68, loss = 0.47955455\n",
      "Iteration 69, loss = 0.47843125\n",
      "Iteration 70, loss = 0.47726063\n",
      "Iteration 71, loss = 0.47598850\n",
      "Iteration 72, loss = 0.47504061\n",
      "Iteration 73, loss = 0.47434452\n",
      "Iteration 74, loss = 0.47357080\n",
      "Iteration 75, loss = 0.47211611\n",
      "Iteration 76, loss = 0.47229867\n",
      "Iteration 77, loss = 0.47095046\n",
      "Iteration 78, loss = 0.47370834\n",
      "Iteration 79, loss = 0.47034684\n",
      "Iteration 80, loss = 0.46949114\n",
      "Iteration 81, loss = 0.46923296\n",
      "Iteration 82, loss = 0.46998287\n",
      "Iteration 83, loss = 0.46630704\n",
      "Iteration 84, loss = 0.46816169\n",
      "Iteration 85, loss = 0.46679759\n",
      "Iteration 86, loss = 0.46465225\n",
      "Iteration 87, loss = 0.46600432\n",
      "Iteration 88, loss = 0.46215545\n",
      "Iteration 89, loss = 0.46534597\n",
      "Iteration 90, loss = 0.46240180\n",
      "Iteration 91, loss = 0.46193665\n",
      "Iteration 92, loss = 0.46099242\n",
      "Iteration 93, loss = 0.46071197\n",
      "Iteration 94, loss = 0.45912717\n",
      "Iteration 95, loss = 0.45909876\n",
      "Iteration 96, loss = 0.45839645\n",
      "Iteration 97, loss = 0.45789300\n",
      "Iteration 98, loss = 0.45685698\n",
      "Iteration 99, loss = 0.45767577\n",
      "Iteration 100, loss = 0.45690488\n",
      "Iteration 101, loss = 0.45773669\n",
      "Iteration 102, loss = 0.45538970\n",
      "Iteration 103, loss = 0.45515683\n",
      "Iteration 104, loss = 0.45358854\n",
      "Iteration 105, loss = 0.45537553\n",
      "Iteration 106, loss = 0.45404108\n",
      "Iteration 107, loss = 0.45348940\n",
      "Iteration 108, loss = 0.45559835\n",
      "Iteration 109, loss = 0.45270009\n",
      "Iteration 110, loss = 0.45259130\n",
      "Iteration 111, loss = 0.45173286\n",
      "Iteration 112, loss = 0.45096228\n",
      "Iteration 113, loss = 0.45014301\n",
      "Iteration 114, loss = 0.45118569\n",
      "Iteration 115, loss = 0.44946249\n",
      "Iteration 116, loss = 0.45028459\n",
      "Iteration 117, loss = 0.44849829\n",
      "Iteration 118, loss = 0.44910358\n",
      "Iteration 119, loss = 0.44780098\n",
      "Iteration 120, loss = 0.44844395\n",
      "Iteration 121, loss = 0.44678829\n",
      "Iteration 122, loss = 0.44892345\n",
      "Iteration 123, loss = 0.44654108\n",
      "Iteration 124, loss = 0.44701348\n",
      "Iteration 125, loss = 0.44574867\n",
      "Iteration 126, loss = 0.44627604\n",
      "Iteration 127, loss = 0.44712668\n",
      "Iteration 128, loss = 0.44549565\n",
      "Iteration 129, loss = 0.44676641\n",
      "Iteration 130, loss = 0.44443340\n",
      "Iteration 131, loss = 0.44420491\n",
      "Iteration 132, loss = 0.44434733\n",
      "Iteration 133, loss = 0.44520265\n",
      "Iteration 134, loss = 0.44423555\n",
      "Iteration 135, loss = 0.44359339\n",
      "Iteration 136, loss = 0.44395995\n",
      "Iteration 137, loss = 0.44340767\n",
      "Iteration 138, loss = 0.44243685\n",
      "Iteration 139, loss = 0.44395755\n",
      "Iteration 140, loss = 0.44031222\n",
      "Iteration 141, loss = 0.44802934\n",
      "Iteration 142, loss = 0.44350809\n",
      "Iteration 143, loss = 0.44264532\n",
      "Iteration 144, loss = 0.44291743\n",
      "Iteration 145, loss = 0.44136875\n",
      "Iteration 146, loss = 0.44145292\n",
      "Iteration 147, loss = 0.44131870\n",
      "Iteration 148, loss = 0.44051441\n",
      "Iteration 149, loss = 0.44014768\n",
      "Iteration 150, loss = 0.43990532\n",
      "Iteration 151, loss = 0.43998809\n",
      "Iteration 152, loss = 0.44014237\n",
      "Iteration 153, loss = 0.43931375\n",
      "Iteration 154, loss = 0.43891750\n",
      "Iteration 155, loss = 0.43861580\n",
      "Iteration 156, loss = 0.44279000\n",
      "Iteration 157, loss = 0.44814351\n",
      "Iteration 158, loss = 0.44145657\n",
      "Iteration 159, loss = 0.43932217\n",
      "Iteration 160, loss = 0.44523745\n",
      "Iteration 161, loss = 0.43727721\n",
      "Iteration 162, loss = 0.44268391\n",
      "Iteration 163, loss = 0.43883266\n",
      "Iteration 164, loss = 0.43885790\n",
      "Iteration 165, loss = 0.43773081\n",
      "Iteration 166, loss = 0.43746880\n",
      "Iteration 167, loss = 0.43744684\n",
      "Iteration 168, loss = 0.43923923\n",
      "Iteration 169, loss = 0.43848835\n",
      "Iteration 170, loss = 0.43890165\n",
      "Iteration 171, loss = 0.43966326\n",
      "Iteration 172, loss = 0.43873375\n",
      "Training loss did not improve more than tol=0.000010 for 10 consecutive epochs. Stopping.\n",
      "Iteration 1, loss = 13.74334203\n",
      "Iteration 2, loss = 11.19471890\n",
      "Iteration 3, loss = 4.27849911\n",
      "Iteration 4, loss = 7.43680850\n",
      "Iteration 5, loss = 7.47643021\n",
      "Iteration 6, loss = 4.41452277\n",
      "Iteration 7, loss = 2.69727359\n",
      "Iteration 8, loss = 3.59134249\n",
      "Iteration 9, loss = 1.81125368\n",
      "Iteration 10, loss = 2.31270315\n",
      "Iteration 11, loss = 1.35606605\n",
      "Iteration 12, loss = 1.50516387\n",
      "Iteration 13, loss = 1.13799097\n",
      "Iteration 14, loss = 1.12353318\n",
      "Iteration 15, loss = 1.05469999\n",
      "Iteration 16, loss = 1.01043041\n",
      "Iteration 17, loss = 0.93517514\n",
      "Iteration 18, loss = 0.92023708\n",
      "Iteration 19, loss = 0.81654111\n",
      "Iteration 20, loss = 0.80296968\n",
      "Iteration 21, loss = 0.75501561\n",
      "Iteration 22, loss = 0.71331187\n",
      "Iteration 23, loss = 0.66135228\n",
      "Iteration 24, loss = 0.63712470\n",
      "Iteration 25, loss = 0.60633015\n",
      "Iteration 26, loss = 0.60044575\n",
      "Iteration 27, loss = 0.56975594\n",
      "Iteration 28, loss = 0.54637821\n",
      "Iteration 29, loss = 0.53614389\n",
      "Iteration 30, loss = 0.52391745\n",
      "Iteration 31, loss = 0.51549222\n",
      "Iteration 32, loss = 0.51009907\n",
      "Iteration 33, loss = 0.50982625\n",
      "Iteration 34, loss = 0.50332284\n",
      "Iteration 35, loss = 0.50267957\n",
      "Iteration 36, loss = 0.49508948\n",
      "Iteration 37, loss = 0.49095920\n",
      "Iteration 38, loss = 0.49032980\n",
      "Iteration 39, loss = 0.48541246\n",
      "Iteration 40, loss = 0.48587637\n",
      "Iteration 41, loss = 0.48695847\n",
      "Iteration 42, loss = 0.47751277\n",
      "Iteration 43, loss = 0.47506750\n",
      "Iteration 44, loss = 0.48927124\n",
      "Iteration 45, loss = 0.48250624\n",
      "Iteration 46, loss = 0.47448715\n",
      "Iteration 47, loss = 0.47635040\n",
      "Iteration 48, loss = 0.47002024\n",
      "Iteration 49, loss = 0.47941723\n",
      "Iteration 50, loss = 0.47165756\n",
      "Iteration 51, loss = 0.46725453\n",
      "Iteration 52, loss = 0.46886047\n",
      "Iteration 53, loss = 0.46645156\n",
      "Iteration 54, loss = 0.45841392\n",
      "Iteration 55, loss = 0.46608092\n",
      "Iteration 56, loss = 0.46288704\n",
      "Iteration 57, loss = 0.45729492\n",
      "Iteration 58, loss = 0.47374273\n",
      "Iteration 59, loss = 0.45033190\n",
      "Iteration 60, loss = 0.45882166\n",
      "Iteration 61, loss = 0.44913486\n",
      "Iteration 62, loss = 0.45029194\n",
      "Iteration 63, loss = 0.44774192\n",
      "Iteration 64, loss = 0.44780490\n",
      "Iteration 65, loss = 0.45014541\n",
      "Iteration 66, loss = 0.46140653\n",
      "Iteration 67, loss = 0.45277427\n",
      "Iteration 68, loss = 0.44928049\n",
      "Iteration 69, loss = 0.44245598\n",
      "Iteration 70, loss = 0.44499478\n",
      "Iteration 71, loss = 0.44188352\n",
      "Iteration 72, loss = 0.44361374\n",
      "Iteration 73, loss = 0.44617818\n",
      "Iteration 74, loss = 0.44345028\n",
      "Iteration 75, loss = 0.45508727\n",
      "Iteration 76, loss = 0.44249871\n",
      "Iteration 77, loss = 0.44168616\n",
      "Iteration 78, loss = 0.43548128\n",
      "Iteration 79, loss = 0.44149370\n",
      "Iteration 80, loss = 0.43624204\n",
      "Iteration 81, loss = 0.44664194\n",
      "Iteration 82, loss = 0.44156816\n",
      "Iteration 83, loss = 0.45125989\n",
      "Iteration 84, loss = 0.43934531\n",
      "Iteration 85, loss = 0.44072961\n"
     ]
    },
    {
     "name": "stdout",
     "output_type": "stream",
     "text": [
      "Iteration 86, loss = 0.45035150\n",
      "Iteration 87, loss = 0.44857937\n",
      "Iteration 88, loss = 0.44319526\n",
      "Iteration 89, loss = 0.44253534\n",
      "Training loss did not improve more than tol=0.000010 for 10 consecutive epochs. Stopping.\n",
      "Iteration 1, loss = 7.96762681\n",
      "Iteration 2, loss = 3.96943953\n",
      "Iteration 3, loss = 4.61652024\n",
      "Iteration 4, loss = 2.76133904\n",
      "Iteration 5, loss = 3.10866040\n",
      "Iteration 6, loss = 2.13363278\n",
      "Iteration 7, loss = 2.22347125\n",
      "Iteration 8, loss = 1.77609660\n",
      "Iteration 9, loss = 1.47914340\n",
      "Iteration 10, loss = 1.44783540\n",
      "Iteration 11, loss = 1.13056869\n",
      "Iteration 12, loss = 0.95052177\n",
      "Iteration 13, loss = 0.86953473\n",
      "Iteration 14, loss = 0.72219035\n",
      "Iteration 15, loss = 0.67000060\n",
      "Iteration 16, loss = 0.64145681\n",
      "Iteration 17, loss = 0.62664859\n",
      "Iteration 18, loss = 0.61534893\n",
      "Iteration 19, loss = 0.59510205\n",
      "Iteration 20, loss = 0.60135421\n",
      "Iteration 21, loss = 0.58144055\n",
      "Iteration 22, loss = 0.56453726\n",
      "Iteration 23, loss = 0.55178648\n",
      "Iteration 24, loss = 0.56421040\n",
      "Iteration 25, loss = 0.53339293\n",
      "Iteration 26, loss = 0.52898774\n",
      "Iteration 27, loss = 0.53252769\n",
      "Iteration 28, loss = 0.53294606\n",
      "Iteration 29, loss = 0.53570214\n",
      "Iteration 30, loss = 0.56154642\n",
      "Iteration 31, loss = 0.52491054\n",
      "Iteration 32, loss = 0.52271666\n",
      "Iteration 33, loss = 0.51441191\n",
      "Iteration 34, loss = 0.49602245\n",
      "Iteration 35, loss = 0.49109520\n",
      "Iteration 36, loss = 0.49113032\n",
      "Iteration 37, loss = 0.48487624\n",
      "Iteration 38, loss = 0.48699276\n",
      "Iteration 39, loss = 0.48290711\n",
      "Iteration 40, loss = 0.48183483\n",
      "Iteration 41, loss = 0.48222444\n",
      "Iteration 42, loss = 0.47332077\n",
      "Iteration 43, loss = 0.49605155\n",
      "Iteration 44, loss = 0.48932783\n",
      "Iteration 45, loss = 0.48330797\n",
      "Iteration 46, loss = 0.46800850\n",
      "Iteration 47, loss = 0.46233162\n",
      "Iteration 48, loss = 0.45661053\n",
      "Iteration 49, loss = 0.46524408\n",
      "Iteration 50, loss = 0.47017420\n",
      "Iteration 51, loss = 0.46679075\n",
      "Iteration 52, loss = 0.45958068\n",
      "Iteration 53, loss = 0.47138725\n",
      "Iteration 54, loss = 0.46603558\n",
      "Iteration 55, loss = 0.49117693\n",
      "Iteration 56, loss = 0.46231838\n",
      "Iteration 57, loss = 0.44744803\n",
      "Iteration 58, loss = 0.44597292\n",
      "Iteration 59, loss = 0.45399353\n",
      "Iteration 60, loss = 0.46407421\n",
      "Iteration 61, loss = 0.44368956\n",
      "Iteration 62, loss = 0.45138420\n",
      "Iteration 63, loss = 0.43469940\n",
      "Iteration 64, loss = 0.45015864\n",
      "Iteration 65, loss = 0.44941269\n",
      "Iteration 66, loss = 0.49167545\n",
      "Iteration 67, loss = 0.49284215\n",
      "Iteration 68, loss = 0.48225097\n",
      "Iteration 69, loss = 0.45532292\n",
      "Iteration 70, loss = 0.45024177\n",
      "Iteration 71, loss = 0.44712672\n",
      "Iteration 72, loss = 0.44691894\n",
      "Iteration 73, loss = 0.44685941\n",
      "Iteration 74, loss = 0.45770322\n",
      "Training loss did not improve more than tol=0.000010 for 10 consecutive epochs. Stopping.\n",
      "Iteration 1, loss = 6.75498798\n",
      "Iteration 2, loss = 5.35073499\n",
      "Iteration 3, loss = 3.10944141\n",
      "Iteration 4, loss = 4.67176878\n",
      "Iteration 5, loss = 2.35790278\n",
      "Iteration 6, loss = 3.06684358\n",
      "Iteration 7, loss = 2.79614479\n",
      "Iteration 8, loss = 1.88192951\n",
      "Iteration 9, loss = 1.91376089\n",
      "Iteration 10, loss = 1.35372253\n",
      "Iteration 11, loss = 1.45198888\n",
      "Iteration 12, loss = 1.06023637\n",
      "Iteration 13, loss = 1.00179743\n",
      "Iteration 14, loss = 0.84027286\n",
      "Iteration 15, loss = 0.74444258\n",
      "Iteration 16, loss = 0.70922298\n",
      "Iteration 17, loss = 0.65148979\n",
      "Iteration 18, loss = 0.62892986\n",
      "Iteration 19, loss = 0.59050553\n",
      "Iteration 20, loss = 0.59008486\n",
      "Iteration 21, loss = 0.60581410\n",
      "Iteration 22, loss = 0.60114989\n",
      "Iteration 23, loss = 0.58041906\n",
      "Iteration 24, loss = 0.58036283\n",
      "Iteration 25, loss = 0.56993302\n",
      "Iteration 26, loss = 0.56190576\n",
      "Iteration 27, loss = 0.54330048\n",
      "Iteration 28, loss = 0.55098661\n",
      "Iteration 29, loss = 0.52982772\n",
      "Iteration 30, loss = 0.52459326\n",
      "Iteration 31, loss = 0.52472741\n",
      "Iteration 32, loss = 0.51719444\n",
      "Iteration 33, loss = 0.52880422\n",
      "Iteration 34, loss = 0.51497496\n",
      "Iteration 35, loss = 0.50166874\n",
      "Iteration 36, loss = 0.49856833\n",
      "Iteration 37, loss = 0.49517292\n",
      "Iteration 38, loss = 0.49459922\n",
      "Iteration 39, loss = 0.51349041\n",
      "Iteration 40, loss = 0.49368269\n",
      "Iteration 41, loss = 0.49492064\n",
      "Iteration 42, loss = 0.48552652\n",
      "Iteration 43, loss = 0.47949640\n",
      "Iteration 44, loss = 0.47623705\n",
      "Iteration 45, loss = 0.47569838\n",
      "Iteration 46, loss = 0.48408083\n",
      "Iteration 47, loss = 0.47759581\n",
      "Iteration 48, loss = 0.47065400\n",
      "Iteration 49, loss = 0.46692428\n",
      "Iteration 50, loss = 0.46362546\n",
      "Iteration 51, loss = 0.46941233\n",
      "Iteration 52, loss = 0.49345165\n",
      "Iteration 53, loss = 0.49521717\n",
      "Iteration 54, loss = 0.47347746\n",
      "Iteration 55, loss = 0.47924392\n",
      "Iteration 56, loss = 0.46161974\n",
      "Iteration 57, loss = 0.47354221\n",
      "Iteration 58, loss = 0.48442571\n",
      "Iteration 59, loss = 0.45300521\n",
      "Iteration 60, loss = 0.45191637\n",
      "Iteration 61, loss = 0.45660707\n",
      "Iteration 62, loss = 0.47636656\n",
      "Iteration 63, loss = 0.45564302\n",
      "Iteration 64, loss = 0.44877651\n",
      "Iteration 65, loss = 0.44271176\n",
      "Iteration 66, loss = 0.44032242\n",
      "Iteration 67, loss = 0.43702470\n",
      "Iteration 68, loss = 0.44134471\n",
      "Iteration 69, loss = 0.45251500\n",
      "Iteration 70, loss = 0.44771358\n",
      "Iteration 71, loss = 0.44437601\n",
      "Iteration 72, loss = 0.44238465\n",
      "Iteration 73, loss = 0.43482296\n",
      "Iteration 74, loss = 0.43005703\n",
      "Iteration 75, loss = 0.43361593\n",
      "Iteration 76, loss = 0.43656231\n",
      "Iteration 77, loss = 0.43470405\n",
      "Iteration 78, loss = 0.42861427\n",
      "Iteration 79, loss = 0.42633555\n",
      "Iteration 80, loss = 0.44447408\n",
      "Iteration 81, loss = 0.43457303\n",
      "Iteration 82, loss = 0.43744745\n",
      "Iteration 83, loss = 0.44444133\n",
      "Iteration 84, loss = 0.44870487\n",
      "Iteration 85, loss = 0.44806739\n",
      "Iteration 86, loss = 0.43091344\n",
      "Iteration 87, loss = 0.42754057\n",
      "Iteration 88, loss = 0.42736651\n",
      "Iteration 89, loss = 0.41759633\n",
      "Iteration 90, loss = 0.43474226\n",
      "Iteration 91, loss = 0.41706832\n",
      "Iteration 92, loss = 0.41733189\n",
      "Iteration 93, loss = 0.41838383\n",
      "Iteration 94, loss = 0.41574890\n",
      "Iteration 95, loss = 0.41531700\n",
      "Iteration 96, loss = 0.41668184\n",
      "Iteration 97, loss = 0.41583415\n",
      "Iteration 98, loss = 0.42131358\n",
      "Iteration 99, loss = 0.41946937\n",
      "Iteration 100, loss = 0.41475846\n",
      "Iteration 101, loss = 0.41417776\n",
      "Iteration 102, loss = 0.41340087\n",
      "Iteration 103, loss = 0.42043670\n",
      "Iteration 104, loss = 0.42549032\n",
      "Iteration 105, loss = 0.42489543\n",
      "Iteration 106, loss = 0.41188706\n",
      "Iteration 107, loss = 0.41405040\n",
      "Iteration 108, loss = 0.41217726\n",
      "Iteration 109, loss = 0.41614882\n",
      "Iteration 110, loss = 0.41045398\n",
      "Iteration 111, loss = 0.40960038\n",
      "Iteration 112, loss = 0.42771891\n",
      "Iteration 113, loss = 0.42587534\n",
      "Iteration 114, loss = 0.41211475\n",
      "Iteration 115, loss = 0.41130199\n",
      "Iteration 116, loss = 0.42425834\n",
      "Iteration 117, loss = 0.42806532\n",
      "Iteration 118, loss = 0.42143367\n",
      "Iteration 119, loss = 0.44542248\n",
      "Iteration 120, loss = 0.42900157\n",
      "Iteration 121, loss = 0.41234259\n",
      "Iteration 122, loss = 0.40381422\n",
      "Iteration 123, loss = 0.41733219\n",
      "Iteration 124, loss = 0.42075435\n",
      "Iteration 125, loss = 0.41446324\n",
      "Iteration 126, loss = 0.41445409\n",
      "Iteration 127, loss = 0.41569087\n",
      "Iteration 128, loss = 0.46292975\n",
      "Iteration 129, loss = 0.42804350\n",
      "Iteration 130, loss = 0.46573703\n",
      "Iteration 131, loss = 0.46964519\n",
      "Iteration 132, loss = 0.47855829\n",
      "Iteration 133, loss = 0.43827513\n",
      "Training loss did not improve more than tol=0.000010 for 10 consecutive epochs. Stopping.\n",
      "Iteration 1, loss = 5.42990389\n",
      "Iteration 2, loss = 4.17013161\n",
      "Iteration 3, loss = 3.29147885\n",
      "Iteration 4, loss = 2.80134522\n",
      "Iteration 5, loss = 2.06011914\n",
      "Iteration 6, loss = 1.84161841\n",
      "Iteration 7, loss = 1.42304836\n",
      "Iteration 8, loss = 1.04747314\n",
      "Iteration 9, loss = 0.92758348\n",
      "Iteration 10, loss = 0.81594937\n",
      "Iteration 11, loss = 0.76931942\n",
      "Iteration 12, loss = 0.70978195\n",
      "Iteration 13, loss = 0.65963651\n",
      "Iteration 14, loss = 0.63479702\n",
      "Iteration 15, loss = 0.62591167\n",
      "Iteration 16, loss = 0.61323994\n",
      "Iteration 17, loss = 0.59405623\n",
      "Iteration 18, loss = 0.57882208\n",
      "Iteration 19, loss = 0.57004134\n",
      "Iteration 20, loss = 0.55028372\n",
      "Iteration 21, loss = 0.54264614\n",
      "Iteration 22, loss = 0.53674788\n",
      "Iteration 23, loss = 0.52728977\n",
      "Iteration 24, loss = 0.52152370\n",
      "Iteration 25, loss = 0.52697177\n",
      "Iteration 26, loss = 0.51198029\n",
      "Iteration 27, loss = 0.51479199\n",
      "Iteration 28, loss = 0.50708869\n",
      "Iteration 29, loss = 0.50704908\n",
      "Iteration 30, loss = 0.50516158\n",
      "Iteration 31, loss = 0.49858809\n",
      "Iteration 32, loss = 0.49444149\n",
      "Iteration 33, loss = 0.49798888\n",
      "Iteration 34, loss = 0.49218882\n",
      "Iteration 35, loss = 0.50044342\n",
      "Iteration 36, loss = 0.49708649\n",
      "Iteration 37, loss = 0.50263549\n",
      "Iteration 38, loss = 0.51738588\n"
     ]
    },
    {
     "name": "stdout",
     "output_type": "stream",
     "text": [
      "Iteration 39, loss = 0.49502631\n",
      "Iteration 40, loss = 0.47704236\n",
      "Iteration 41, loss = 0.47526150\n",
      "Iteration 42, loss = 0.47428485\n",
      "Iteration 43, loss = 0.47365064\n",
      "Iteration 44, loss = 0.46788231\n",
      "Iteration 45, loss = 0.46575740\n",
      "Iteration 46, loss = 0.46380489\n",
      "Iteration 47, loss = 0.46501777\n",
      "Iteration 48, loss = 0.46990157\n",
      "Iteration 49, loss = 0.46395395\n",
      "Iteration 50, loss = 0.46136033\n",
      "Iteration 51, loss = 0.47108045\n",
      "Iteration 52, loss = 0.46972212\n",
      "Iteration 53, loss = 0.45713586\n",
      "Iteration 54, loss = 0.45679988\n",
      "Iteration 55, loss = 0.45710979\n",
      "Iteration 56, loss = 0.45177137\n",
      "Iteration 57, loss = 0.45243389\n",
      "Iteration 58, loss = 0.47042150\n",
      "Iteration 59, loss = 0.48340845\n",
      "Iteration 60, loss = 0.45805835\n",
      "Iteration 61, loss = 0.44680961\n",
      "Iteration 62, loss = 0.44535467\n",
      "Iteration 63, loss = 0.44434518\n",
      "Iteration 64, loss = 0.44687239\n",
      "Iteration 65, loss = 0.44184696\n",
      "Iteration 66, loss = 0.43808518\n",
      "Iteration 67, loss = 0.46351560\n",
      "Iteration 68, loss = 0.44413665\n",
      "Iteration 69, loss = 0.44466056\n",
      "Iteration 70, loss = 0.44859543\n",
      "Iteration 71, loss = 0.44224945\n",
      "Iteration 72, loss = 0.43940327\n",
      "Iteration 73, loss = 0.44360177\n",
      "Iteration 74, loss = 0.43310983\n",
      "Iteration 75, loss = 0.43238113\n",
      "Iteration 76, loss = 0.43248222\n",
      "Iteration 77, loss = 0.43190119\n",
      "Iteration 78, loss = 0.43283890\n",
      "Iteration 79, loss = 0.43669910\n",
      "Iteration 80, loss = 0.43178375\n",
      "Iteration 81, loss = 0.44506498\n",
      "Iteration 82, loss = 0.43071379\n",
      "Iteration 83, loss = 0.43412635\n",
      "Iteration 84, loss = 0.43544128\n",
      "Iteration 85, loss = 0.42817644\n",
      "Iteration 86, loss = 0.43422644\n",
      "Iteration 87, loss = 0.44489549\n",
      "Iteration 88, loss = 0.43972309\n",
      "Iteration 89, loss = 0.45438140\n",
      "Iteration 90, loss = 0.44579415\n",
      "Iteration 91, loss = 0.46543705\n",
      "Iteration 92, loss = 0.46829289\n",
      "Iteration 93, loss = 0.45024986\n",
      "Iteration 94, loss = 0.45781001\n",
      "Iteration 95, loss = 0.42879982\n",
      "Iteration 96, loss = 0.43248076\n",
      "Training loss did not improve more than tol=0.000010 for 10 consecutive epochs. Stopping.\n",
      "Iteration 1, loss = 13.09303578\n",
      "Iteration 2, loss = 12.52074822\n",
      "Iteration 3, loss = 11.55545122\n",
      "Iteration 4, loss = 9.61016189\n",
      "Iteration 5, loss = 5.09497728\n",
      "Iteration 6, loss = 5.24868494\n",
      "Iteration 7, loss = 6.23306853\n",
      "Iteration 8, loss = 5.66974910\n",
      "Iteration 9, loss = 3.87679339\n",
      "Iteration 10, loss = 3.21968098\n",
      "Iteration 11, loss = 3.45350691\n",
      "Iteration 12, loss = 2.22768661\n",
      "Iteration 13, loss = 2.11431072\n",
      "Iteration 14, loss = 1.59014414\n",
      "Iteration 15, loss = 1.36267465\n",
      "Iteration 16, loss = 0.96908783\n",
      "Iteration 17, loss = 0.87529371\n",
      "Iteration 18, loss = 0.79516703\n",
      "Iteration 19, loss = 0.69123562\n",
      "Iteration 20, loss = 0.67889888\n",
      "Iteration 21, loss = 0.63567935\n",
      "Iteration 22, loss = 0.60767448\n",
      "Iteration 23, loss = 0.57684610\n",
      "Iteration 24, loss = 0.58857443\n",
      "Iteration 25, loss = 0.57106127\n",
      "Iteration 26, loss = 0.54984481\n",
      "Iteration 27, loss = 0.53965534\n",
      "Iteration 28, loss = 0.53730554\n",
      "Iteration 29, loss = 0.53098719\n",
      "Iteration 30, loss = 0.52673163\n",
      "Iteration 31, loss = 0.52093944\n",
      "Iteration 32, loss = 0.51979804\n",
      "Iteration 33, loss = 0.51446354\n",
      "Iteration 34, loss = 0.51269914\n",
      "Iteration 35, loss = 0.50874075\n",
      "Iteration 36, loss = 0.50598231\n",
      "Iteration 37, loss = 0.50312123\n",
      "Iteration 38, loss = 0.49972540\n",
      "Iteration 39, loss = 0.49866715\n",
      "Iteration 40, loss = 0.49610979\n",
      "Iteration 41, loss = 0.49271553\n",
      "Iteration 42, loss = 0.49024970\n",
      "Iteration 43, loss = 0.48930273\n",
      "Iteration 44, loss = 0.48673188\n",
      "Iteration 45, loss = 0.48676561\n",
      "Iteration 46, loss = 0.48839545\n",
      "Iteration 47, loss = 0.48247162\n",
      "Iteration 48, loss = 0.47822505\n",
      "Iteration 49, loss = 0.47539629\n",
      "Iteration 50, loss = 0.47654503\n",
      "Iteration 51, loss = 0.47429898\n",
      "Iteration 52, loss = 0.47075980\n",
      "Iteration 53, loss = 0.46873851\n",
      "Iteration 54, loss = 0.47683805\n",
      "Iteration 55, loss = 0.48699380\n",
      "Iteration 56, loss = 0.47808425\n",
      "Iteration 57, loss = 0.47690705\n",
      "Iteration 58, loss = 0.48430845\n",
      "Iteration 59, loss = 0.47480572\n",
      "Iteration 60, loss = 0.47175262\n",
      "Iteration 61, loss = 0.45752303\n",
      "Iteration 62, loss = 0.45803316\n",
      "Iteration 63, loss = 0.45922336\n",
      "Iteration 64, loss = 0.46272871\n",
      "Iteration 65, loss = 0.45578977\n",
      "Iteration 66, loss = 0.45756046\n",
      "Iteration 67, loss = 0.45589090\n",
      "Iteration 68, loss = 0.45878417\n",
      "Iteration 69, loss = 0.46725246\n",
      "Iteration 70, loss = 0.47229679\n",
      "Iteration 71, loss = 0.46068703\n",
      "Iteration 72, loss = 0.45666804\n",
      "Iteration 73, loss = 0.44977483\n",
      "Iteration 74, loss = 0.44330395\n",
      "Iteration 75, loss = 0.44575195\n",
      "Iteration 76, loss = 0.44464045\n",
      "Iteration 77, loss = 0.44376113\n",
      "Iteration 78, loss = 0.44264446\n",
      "Iteration 79, loss = 0.44142440\n",
      "Iteration 80, loss = 0.44567676\n",
      "Iteration 81, loss = 0.44053239\n",
      "Iteration 82, loss = 0.44276420\n",
      "Iteration 83, loss = 0.44285796\n",
      "Iteration 84, loss = 0.43684089\n",
      "Iteration 85, loss = 0.43663416\n",
      "Iteration 86, loss = 0.44459148\n",
      "Iteration 87, loss = 0.44736556\n",
      "Iteration 88, loss = 0.44907658\n",
      "Iteration 89, loss = 0.44915937\n",
      "Iteration 90, loss = 0.43622588\n",
      "Iteration 91, loss = 0.43288918\n",
      "Iteration 92, loss = 0.43132204\n",
      "Iteration 93, loss = 0.43049600\n",
      "Iteration 94, loss = 0.43047391\n",
      "Iteration 95, loss = 0.43003292\n",
      "Iteration 96, loss = 0.42930437\n",
      "Iteration 97, loss = 0.43505212\n",
      "Iteration 98, loss = 0.42758515\n",
      "Iteration 99, loss = 0.42741520\n",
      "Iteration 100, loss = 0.42643084\n",
      "Iteration 101, loss = 0.42600796\n",
      "Iteration 102, loss = 0.42696243\n",
      "Iteration 103, loss = 0.42818175\n",
      "Iteration 104, loss = 0.42954992\n",
      "Iteration 105, loss = 0.43492220\n",
      "Iteration 106, loss = 0.42649065\n",
      "Iteration 107, loss = 0.42900220\n",
      "Iteration 108, loss = 0.43195402\n",
      "Iteration 109, loss = 0.42585420\n",
      "Iteration 110, loss = 0.42161289\n",
      "Iteration 111, loss = 0.42518736\n",
      "Iteration 112, loss = 0.42232541\n",
      "Iteration 113, loss = 0.42090690\n",
      "Iteration 114, loss = 0.42274900\n",
      "Iteration 115, loss = 0.42096773\n",
      "Iteration 116, loss = 0.42965742\n",
      "Iteration 117, loss = 0.44512164\n",
      "Iteration 118, loss = 0.44218541\n",
      "Iteration 119, loss = 0.44823062\n",
      "Iteration 120, loss = 0.43103429\n",
      "Iteration 121, loss = 0.44900220\n",
      "Iteration 122, loss = 0.44434125\n",
      "Iteration 123, loss = 0.43563503\n",
      "Iteration 124, loss = 0.42879177\n",
      "Training loss did not improve more than tol=0.000010 for 10 consecutive epochs. Stopping.\n",
      "traning score = 0.8170594837261503, while validation score = 0.7822643696137332\n"
     ]
    }
   ],
   "source": [
    "## Redes neurais\n",
    "\n",
    "classificador = MLPClassifier(verbose = True,\n",
    "                              max_iter=900, # iteraçoes\n",
    "                              tol = 0.000010, # tolerencia\n",
    "                              solver = 'adam', # metodo\n",
    "                              hidden_layer_sizes=(100), # camadas ocultas\n",
    "                              activation='relu')\n",
    "classificador.fit(X_train,y_train)\n",
    "previsoes  = classificador.predict(X_test)\n",
    "result_train = classificador.score(X_train, y_train)\n",
    "\n",
    "result_val = cross_val_score(classificador,train.drop('Survived',axis=1), train['Survived'], cv=5).mean()\n",
    "\n",
    "print(f'traning score = {result_train}, while validation score = {result_val}')\n",
    "\n"
   ]
  },
  {
   "cell_type": "code",
   "execution_count": 69,
   "metadata": {},
   "outputs": [],
   "source": [
    "submission = pd.DataFrame({\n",
    "        'PassengerId': test['PassengerId'],\n",
    "        'Survived': prev_random})"
   ]
  },
  {
   "cell_type": "code",
   "execution_count": null,
   "metadata": {},
   "outputs": [],
   "source": []
  },
  {
   "cell_type": "code",
   "execution_count": 70,
   "metadata": {},
   "outputs": [],
   "source": [
    "submission.to_csv('submission.csv', index=False)"
   ]
  },
  {
   "cell_type": "code",
   "execution_count": 71,
   "metadata": {},
   "outputs": [
    {
     "data": {
      "text/html": [
       "<div>\n",
       "<style scoped>\n",
       "    .dataframe tbody tr th:only-of-type {\n",
       "        vertical-align: middle;\n",
       "    }\n",
       "\n",
       "    .dataframe tbody tr th {\n",
       "        vertical-align: top;\n",
       "    }\n",
       "\n",
       "    .dataframe thead th {\n",
       "        text-align: right;\n",
       "    }\n",
       "</style>\n",
       "<table border=\"1\" class=\"dataframe\">\n",
       "  <thead>\n",
       "    <tr style=\"text-align: right;\">\n",
       "      <th></th>\n",
       "      <th>PassengerId</th>\n",
       "      <th>Survived</th>\n",
       "    </tr>\n",
       "  </thead>\n",
       "  <tbody>\n",
       "    <tr>\n",
       "      <th>0</th>\n",
       "      <td>892</td>\n",
       "      <td>0</td>\n",
       "    </tr>\n",
       "    <tr>\n",
       "      <th>1</th>\n",
       "      <td>893</td>\n",
       "      <td>0</td>\n",
       "    </tr>\n",
       "    <tr>\n",
       "      <th>2</th>\n",
       "      <td>894</td>\n",
       "      <td>0</td>\n",
       "    </tr>\n",
       "    <tr>\n",
       "      <th>3</th>\n",
       "      <td>895</td>\n",
       "      <td>0</td>\n",
       "    </tr>\n",
       "    <tr>\n",
       "      <th>4</th>\n",
       "      <td>896</td>\n",
       "      <td>0</td>\n",
       "    </tr>\n",
       "  </tbody>\n",
       "</table>\n",
       "</div>"
      ],
      "text/plain": [
       "   PassengerId  Survived\n",
       "0          892         0\n",
       "1          893         0\n",
       "2          894         0\n",
       "3          895         0\n",
       "4          896         0"
      ]
     },
     "execution_count": 71,
     "metadata": {},
     "output_type": "execute_result"
    }
   ],
   "source": [
    "submission.head()"
   ]
  },
  {
   "cell_type": "code",
   "execution_count": null,
   "metadata": {},
   "outputs": [],
   "source": []
  }
 ],
 "metadata": {
  "kernelspec": {
   "display_name": "Python 3",
   "language": "python",
   "name": "python3"
  },
  "language_info": {
   "codemirror_mode": {
    "name": "ipython",
    "version": 3
   },
   "file_extension": ".py",
   "mimetype": "text/x-python",
   "name": "python",
   "nbconvert_exporter": "python",
   "pygments_lexer": "ipython3",
   "version": "3.7.3"
  }
 },
 "nbformat": 4,
 "nbformat_minor": 2
}
